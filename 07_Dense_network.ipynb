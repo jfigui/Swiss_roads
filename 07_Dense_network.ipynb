{
 "cells": [
  {
   "cell_type": "markdown",
   "metadata": {},
   "source": [
    "# 07 Dense network"
   ]
  },
  {
   "cell_type": "code",
   "execution_count": 1,
   "metadata": {},
   "outputs": [],
   "source": [
    "%matplotlib inline\n",
    "\n",
    "import os\n",
    "import numpy as np\n",
    "import pandas as pd\n",
    "import matplotlib.pyplot as plt\n",
    "\n",
    "from tensorflow.keras import Sequential\n",
    "from tensorflow.keras.layers import Dense\n",
    "from tensorflow.keras import optimizers\n",
    "from tensorflow import keras"
   ]
  },
  {
   "cell_type": "code",
   "execution_count": 2,
   "metadata": {},
   "outputs": [],
   "source": [
    "# Some global variables\n",
    "features_basepath = '/data/ml_course/04_Applied_Machine_Learning_2/11_Course_project/'"
   ]
  },
  {
   "cell_type": "code",
   "execution_count": 3,
   "metadata": {},
   "outputs": [],
   "source": [
    "# Load data\n",
    "def load_data(features_basepath, features_file, one_hot_encoding=False):\n",
    "    with np.load(os.path.join(features_basepath, features_file), allow_pickle=False) as npz_file:\n",
    "        data = dict(npz_file.items())\n",
    "        \n",
    "    X = data['data']\n",
    "    if one_hot_encoding:\n",
    "        y = data['labels']\n",
    "    else:\n",
    "        y = np.where(data['labels'] == 1)[1]\n",
    "    names = data['names']\n",
    "    filenames = data['filenames']\n",
    "    \n",
    "    return X, y, names, filenames "
   ]
  },
  {
   "cell_type": "code",
   "execution_count": 4,
   "metadata": {},
   "outputs": [
    {
     "name": "stdout",
     "output_type": "stream",
     "text": [
      "(280, 1280) (280,)\n",
      "(139, 1280) (139,)\n",
      "(50, 1280) (50,)\n"
     ]
    }
   ],
   "source": [
    "X_tr, y_tr, names, fn_tr = load_data(features_basepath, 'Swissroads_train.npz', one_hot_encoding=False)\n",
    "X_va, y_va, _, fn_va = load_data(features_basepath, 'Swissroads_valid.npz', one_hot_encoding=False)\n",
    "X_te, y_te, _, fn_te = load_data(features_basepath, 'Swissroads_test.npz', one_hot_encoding=False)\n",
    "print(X_tr.shape, y_tr.shape)\n",
    "print(X_va.shape, y_va.shape)\n",
    "print(X_te.shape, y_te.shape)"
   ]
  },
  {
   "cell_type": "markdown",
   "metadata": {},
   "source": [
    "## 1-layer network"
   ]
  },
  {
   "cell_type": "code",
   "execution_count": 5,
   "metadata": {},
   "outputs": [
    {
     "name": "stdout",
     "output_type": "stream",
     "text": [
      "_________________________________________________________________\n",
      "Layer (type)                 Output Shape              Param #   \n",
      "=================================================================\n",
      "dense (Dense)                (None, 6)                 7686      \n",
      "=================================================================\n",
      "Total params: 7,686\n",
      "Trainable params: 7,686\n",
      "Non-trainable params: 0\n",
      "_________________________________________________________________\n"
     ]
    }
   ],
   "source": [
    "model_1l = Sequential()\n",
    "model_1l.add(Dense(6, activation='softmax', input_dim=1280))\n",
    "model_1l.summary()"
   ]
  },
  {
   "cell_type": "code",
   "execution_count": 6,
   "metadata": {},
   "outputs": [],
   "source": [
    "# Define loss function, optimizer and metrics to track during training\n",
    "model_1l.compile(optimizer='sgd', loss='sparse_categorical_crossentropy', metrics=['acc'])\n",
    "\n",
    "# End training when accuracy stops improving (optional)\n",
    "early_stopping = keras.callbacks.EarlyStopping(monitor='val_loss', patience=6)"
   ]
  },
  {
   "cell_type": "code",
   "execution_count": 7,
   "metadata": {},
   "outputs": [
    {
     "name": "stdout",
     "output_type": "stream",
     "text": [
      "Train on 280 samples, validate on 139 samples\n",
      "Epoch 1/200\n",
      "280/280 [==============================] - 0s 1ms/step - loss: 1.7690 - acc: 0.3107 - val_loss: 1.1589 - val_acc: 0.6619\n",
      "Epoch 2/200\n",
      "280/280 [==============================] - 0s 95us/step - loss: 1.0028 - acc: 0.7536 - val_loss: 0.7989 - val_acc: 0.7626\n",
      "Epoch 3/200\n",
      "280/280 [==============================] - 0s 53us/step - loss: 0.7302 - acc: 0.8286 - val_loss: 0.6361 - val_acc: 0.8201\n",
      "Epoch 4/200\n",
      "280/280 [==============================] - 0s 56us/step - loss: 0.5696 - acc: 0.8536 - val_loss: 0.5403 - val_acc: 0.8417\n",
      "Epoch 5/200\n",
      "280/280 [==============================] - 0s 59us/step - loss: 0.4773 - acc: 0.8679 - val_loss: 0.4798 - val_acc: 0.8777\n",
      "Epoch 6/200\n",
      "280/280 [==============================] - 0s 57us/step - loss: 0.4118 - acc: 0.9071 - val_loss: 0.4378 - val_acc: 0.8849\n",
      "Epoch 7/200\n",
      "280/280 [==============================] - 0s 55us/step - loss: 0.3610 - acc: 0.9286 - val_loss: 0.4058 - val_acc: 0.8921\n",
      "Epoch 8/200\n",
      "280/280 [==============================] - 0s 56us/step - loss: 0.3234 - acc: 0.9321 - val_loss: 0.3809 - val_acc: 0.8993\n",
      "Epoch 9/200\n",
      "280/280 [==============================] - 0s 56us/step - loss: 0.2945 - acc: 0.9464 - val_loss: 0.3686 - val_acc: 0.8921\n",
      "Epoch 10/200\n",
      "280/280 [==============================] - 0s 55us/step - loss: 0.2714 - acc: 0.9464 - val_loss: 0.3512 - val_acc: 0.8921\n",
      "Epoch 11/200\n",
      "280/280 [==============================] - 0s 54us/step - loss: 0.2510 - acc: 0.9571 - val_loss: 0.3375 - val_acc: 0.8993\n",
      "Epoch 12/200\n",
      "280/280 [==============================] - 0s 54us/step - loss: 0.2341 - acc: 0.9607 - val_loss: 0.3275 - val_acc: 0.8993\n",
      "Epoch 13/200\n",
      "280/280 [==============================] - 0s 54us/step - loss: 0.2199 - acc: 0.9607 - val_loss: 0.3197 - val_acc: 0.8921\n",
      "Epoch 14/200\n",
      "280/280 [==============================] - 0s 54us/step - loss: 0.2070 - acc: 0.9679 - val_loss: 0.3118 - val_acc: 0.8921\n",
      "Epoch 15/200\n",
      "280/280 [==============================] - 0s 55us/step - loss: 0.1959 - acc: 0.9679 - val_loss: 0.3068 - val_acc: 0.8921\n",
      "Epoch 16/200\n",
      "280/280 [==============================] - 0s 54us/step - loss: 0.1862 - acc: 0.9679 - val_loss: 0.3004 - val_acc: 0.8921\n",
      "Epoch 17/200\n",
      "280/280 [==============================] - 0s 55us/step - loss: 0.1763 - acc: 0.9750 - val_loss: 0.2959 - val_acc: 0.8921\n",
      "Epoch 18/200\n",
      "280/280 [==============================] - 0s 55us/step - loss: 0.1694 - acc: 0.9750 - val_loss: 0.2929 - val_acc: 0.8921\n",
      "Epoch 19/200\n",
      "280/280 [==============================] - 0s 54us/step - loss: 0.1613 - acc: 0.9786 - val_loss: 0.2894 - val_acc: 0.8777\n",
      "Epoch 20/200\n",
      "280/280 [==============================] - 0s 55us/step - loss: 0.1548 - acc: 0.9750 - val_loss: 0.2858 - val_acc: 0.8849\n",
      "Epoch 21/200\n",
      "280/280 [==============================] - 0s 55us/step - loss: 0.1486 - acc: 0.9786 - val_loss: 0.2822 - val_acc: 0.8849\n",
      "Epoch 22/200\n",
      "280/280 [==============================] - 0s 56us/step - loss: 0.1438 - acc: 0.9750 - val_loss: 0.2810 - val_acc: 0.8849\n",
      "Epoch 23/200\n",
      "280/280 [==============================] - 0s 56us/step - loss: 0.1384 - acc: 0.9750 - val_loss: 0.2778 - val_acc: 0.8993\n",
      "Epoch 24/200\n",
      "280/280 [==============================] - 0s 55us/step - loss: 0.1323 - acc: 0.9821 - val_loss: 0.2765 - val_acc: 0.8921\n",
      "Epoch 25/200\n",
      "280/280 [==============================] - 0s 55us/step - loss: 0.1295 - acc: 0.9786 - val_loss: 0.2749 - val_acc: 0.8993\n",
      "Epoch 26/200\n",
      "280/280 [==============================] - 0s 54us/step - loss: 0.1245 - acc: 0.9786 - val_loss: 0.2728 - val_acc: 0.8993\n",
      "Epoch 27/200\n",
      "280/280 [==============================] - 0s 56us/step - loss: 0.1207 - acc: 0.9821 - val_loss: 0.2701 - val_acc: 0.8993\n",
      "Epoch 28/200\n",
      "280/280 [==============================] - 0s 54us/step - loss: 0.1167 - acc: 0.9893 - val_loss: 0.2688 - val_acc: 0.8993\n",
      "Epoch 29/200\n",
      "280/280 [==============================] - 0s 55us/step - loss: 0.1132 - acc: 0.9893 - val_loss: 0.2674 - val_acc: 0.8993\n",
      "Epoch 30/200\n",
      "280/280 [==============================] - 0s 55us/step - loss: 0.1106 - acc: 0.9893 - val_loss: 0.2667 - val_acc: 0.8993\n",
      "Epoch 31/200\n",
      "280/280 [==============================] - 0s 55us/step - loss: 0.1067 - acc: 0.9893 - val_loss: 0.2655 - val_acc: 0.8993\n",
      "Epoch 32/200\n",
      "280/280 [==============================] - 0s 55us/step - loss: 0.1045 - acc: 0.9893 - val_loss: 0.2650 - val_acc: 0.8993\n",
      "Epoch 33/200\n",
      "280/280 [==============================] - 0s 55us/step - loss: 0.1013 - acc: 0.9929 - val_loss: 0.2633 - val_acc: 0.8993\n",
      "Epoch 34/200\n",
      "280/280 [==============================] - 0s 59us/step - loss: 0.0989 - acc: 0.9929 - val_loss: 0.2627 - val_acc: 0.8993\n",
      "Epoch 35/200\n",
      "280/280 [==============================] - 0s 59us/step - loss: 0.0960 - acc: 0.9929 - val_loss: 0.2626 - val_acc: 0.8993\n",
      "Epoch 36/200\n",
      "280/280 [==============================] - 0s 53us/step - loss: 0.0936 - acc: 0.9929 - val_loss: 0.2612 - val_acc: 0.8993\n",
      "Epoch 37/200\n",
      "280/280 [==============================] - 0s 54us/step - loss: 0.0912 - acc: 0.9964 - val_loss: 0.2601 - val_acc: 0.8993\n",
      "Epoch 38/200\n",
      "280/280 [==============================] - 0s 54us/step - loss: 0.0893 - acc: 0.9964 - val_loss: 0.2602 - val_acc: 0.8993\n",
      "Epoch 39/200\n",
      "280/280 [==============================] - 0s 54us/step - loss: 0.0873 - acc: 0.9964 - val_loss: 0.2588 - val_acc: 0.8993\n",
      "Epoch 40/200\n",
      "280/280 [==============================] - 0s 55us/step - loss: 0.0851 - acc: 0.9964 - val_loss: 0.2586 - val_acc: 0.8993\n",
      "Epoch 41/200\n",
      "280/280 [==============================] - 0s 59us/step - loss: 0.0831 - acc: 0.9964 - val_loss: 0.2584 - val_acc: 0.8993\n",
      "Epoch 42/200\n",
      "280/280 [==============================] - 0s 54us/step - loss: 0.0814 - acc: 0.9964 - val_loss: 0.2580 - val_acc: 0.8993\n",
      "Epoch 43/200\n",
      "280/280 [==============================] - 0s 58us/step - loss: 0.0798 - acc: 0.9964 - val_loss: 0.2575 - val_acc: 0.8993\n",
      "Epoch 44/200\n",
      "280/280 [==============================] - 0s 57us/step - loss: 0.0779 - acc: 0.9964 - val_loss: 0.2574 - val_acc: 0.8993\n",
      "Epoch 45/200\n",
      "280/280 [==============================] - 0s 57us/step - loss: 0.0764 - acc: 0.9964 - val_loss: 0.2569 - val_acc: 0.8993\n",
      "Epoch 46/200\n",
      "280/280 [==============================] - 0s 56us/step - loss: 0.0746 - acc: 0.9964 - val_loss: 0.2564 - val_acc: 0.8993\n",
      "Epoch 47/200\n",
      "280/280 [==============================] - 0s 54us/step - loss: 0.0732 - acc: 0.9964 - val_loss: 0.2557 - val_acc: 0.8993\n",
      "Epoch 48/200\n",
      "280/280 [==============================] - 0s 57us/step - loss: 0.0721 - acc: 0.9964 - val_loss: 0.2556 - val_acc: 0.8993\n",
      "Epoch 49/200\n",
      "280/280 [==============================] - 0s 56us/step - loss: 0.0705 - acc: 0.9964 - val_loss: 0.2548 - val_acc: 0.8993\n",
      "Epoch 50/200\n",
      "280/280 [==============================] - 0s 56us/step - loss: 0.0693 - acc: 0.9964 - val_loss: 0.2552 - val_acc: 0.8993\n",
      "Epoch 51/200\n",
      "280/280 [==============================] - 0s 56us/step - loss: 0.0678 - acc: 0.9964 - val_loss: 0.2544 - val_acc: 0.8993\n",
      "Epoch 52/200\n",
      "280/280 [==============================] - 0s 57us/step - loss: 0.0668 - acc: 0.9964 - val_loss: 0.2539 - val_acc: 0.8993\n",
      "Epoch 53/200\n",
      "280/280 [==============================] - 0s 58us/step - loss: 0.0654 - acc: 0.9964 - val_loss: 0.2535 - val_acc: 0.8993\n",
      "Epoch 54/200\n",
      "280/280 [==============================] - 0s 59us/step - loss: 0.0645 - acc: 0.9964 - val_loss: 0.2530 - val_acc: 0.8993\n",
      "Epoch 55/200\n",
      "280/280 [==============================] - 0s 58us/step - loss: 0.0634 - acc: 0.9964 - val_loss: 0.2530 - val_acc: 0.8993\n",
      "Epoch 56/200\n",
      "280/280 [==============================] - 0s 57us/step - loss: 0.0622 - acc: 0.9964 - val_loss: 0.2526 - val_acc: 0.8993\n",
      "Epoch 57/200\n",
      "280/280 [==============================] - 0s 56us/step - loss: 0.0612 - acc: 0.9964 - val_loss: 0.2518 - val_acc: 0.8993\n",
      "Epoch 58/200\n",
      "280/280 [==============================] - 0s 58us/step - loss: 0.0601 - acc: 0.9964 - val_loss: 0.2518 - val_acc: 0.8993\n",
      "Epoch 59/200\n",
      "280/280 [==============================] - 0s 56us/step - loss: 0.0589 - acc: 0.9964 - val_loss: 0.2517 - val_acc: 0.8993\n",
      "Epoch 60/200\n",
      "280/280 [==============================] - 0s 61us/step - loss: 0.0580 - acc: 1.0000 - val_loss: 0.2521 - val_acc: 0.8993\n",
      "Epoch 61/200\n",
      "280/280 [==============================] - 0s 55us/step - loss: 0.0571 - acc: 0.9964 - val_loss: 0.2519 - val_acc: 0.8993\n",
      "Epoch 62/200\n",
      "280/280 [==============================] - 0s 56us/step - loss: 0.0563 - acc: 1.0000 - val_loss: 0.2518 - val_acc: 0.8993\n",
      "Epoch 63/200\n",
      "280/280 [==============================] - 0s 58us/step - loss: 0.0554 - acc: 1.0000 - val_loss: 0.2515 - val_acc: 0.8993\n",
      "Epoch 64/200\n",
      "280/280 [==============================] - 0s 58us/step - loss: 0.0546 - acc: 1.0000 - val_loss: 0.2518 - val_acc: 0.8993\n",
      "Epoch 65/200\n",
      "280/280 [==============================] - 0s 64us/step - loss: 0.0537 - acc: 1.0000 - val_loss: 0.2515 - val_acc: 0.8993\n",
      "Epoch 66/200\n",
      "280/280 [==============================] - 0s 59us/step - loss: 0.0530 - acc: 1.0000 - val_loss: 0.2511 - val_acc: 0.8993\n",
      "Epoch 67/200\n",
      "280/280 [==============================] - 0s 58us/step - loss: 0.0522 - acc: 1.0000 - val_loss: 0.2512 - val_acc: 0.8993\n",
      "Epoch 68/200\n",
      "280/280 [==============================] - 0s 54us/step - loss: 0.0514 - acc: 1.0000 - val_loss: 0.2511 - val_acc: 0.8993\n",
      "Epoch 69/200\n",
      "280/280 [==============================] - 0s 51us/step - loss: 0.0508 - acc: 1.0000 - val_loss: 0.2509 - val_acc: 0.8993\n",
      "Epoch 70/200\n",
      "280/280 [==============================] - 0s 57us/step - loss: 0.0500 - acc: 1.0000 - val_loss: 0.2509 - val_acc: 0.8993\n",
      "Epoch 71/200\n",
      "280/280 [==============================] - 0s 60us/step - loss: 0.0492 - acc: 1.0000 - val_loss: 0.2508 - val_acc: 0.8993\n",
      "Epoch 72/200\n",
      "280/280 [==============================] - 0s 55us/step - loss: 0.0487 - acc: 1.0000 - val_loss: 0.2508 - val_acc: 0.8993\n",
      "Epoch 73/200\n",
      "280/280 [==============================] - 0s 59us/step - loss: 0.0481 - acc: 1.0000 - val_loss: 0.2507 - val_acc: 0.8993\n",
      "Epoch 74/200\n",
      "280/280 [==============================] - 0s 58us/step - loss: 0.0472 - acc: 1.0000 - val_loss: 0.2505 - val_acc: 0.8993\n",
      "Epoch 75/200\n",
      "280/280 [==============================] - 0s 60us/step - loss: 0.0468 - acc: 1.0000 - val_loss: 0.2507 - val_acc: 0.8993\n",
      "Epoch 76/200\n",
      "280/280 [==============================] - 0s 55us/step - loss: 0.0461 - acc: 1.0000 - val_loss: 0.2502 - val_acc: 0.8993\n",
      "Epoch 77/200\n",
      "280/280 [==============================] - 0s 61us/step - loss: 0.0456 - acc: 1.0000 - val_loss: 0.2500 - val_acc: 0.8993\n",
      "Epoch 78/200\n",
      "280/280 [==============================] - 0s 60us/step - loss: 0.0449 - acc: 1.0000 - val_loss: 0.2501 - val_acc: 0.8993\n",
      "Epoch 79/200\n",
      "280/280 [==============================] - 0s 56us/step - loss: 0.0443 - acc: 1.0000 - val_loss: 0.2500 - val_acc: 0.8993\n",
      "Epoch 80/200\n",
      "280/280 [==============================] - 0s 55us/step - loss: 0.0438 - acc: 1.0000 - val_loss: 0.2503 - val_acc: 0.8993\n",
      "Epoch 81/200\n",
      "280/280 [==============================] - 0s 54us/step - loss: 0.0433 - acc: 1.0000 - val_loss: 0.2505 - val_acc: 0.8993\n",
      "Epoch 82/200\n",
      "280/280 [==============================] - 0s 55us/step - loss: 0.0427 - acc: 1.0000 - val_loss: 0.2503 - val_acc: 0.8993\n",
      "Epoch 83/200\n",
      "280/280 [==============================] - 0s 57us/step - loss: 0.0424 - acc: 1.0000 - val_loss: 0.2501 - val_acc: 0.8993\n",
      "Epoch 84/200\n",
      "280/280 [==============================] - 0s 56us/step - loss: 0.0417 - acc: 1.0000 - val_loss: 0.2500 - val_acc: 0.8993\n",
      "Epoch 85/200\n",
      "280/280 [==============================] - 0s 54us/step - loss: 0.0411 - acc: 1.0000 - val_loss: 0.2500 - val_acc: 0.8993\n",
      "Epoch 86/200\n",
      "280/280 [==============================] - 0s 58us/step - loss: 0.0407 - acc: 1.0000 - val_loss: 0.2499 - val_acc: 0.8993\n",
      "Epoch 87/200\n",
      "280/280 [==============================] - 0s 70us/step - loss: 0.0404 - acc: 1.0000 - val_loss: 0.2499 - val_acc: 0.8993\n",
      "Epoch 88/200\n",
      "280/280 [==============================] - 0s 62us/step - loss: 0.0399 - acc: 1.0000 - val_loss: 0.2498 - val_acc: 0.8993\n",
      "Epoch 89/200\n",
      "280/280 [==============================] - 0s 57us/step - loss: 0.0394 - acc: 1.0000 - val_loss: 0.2497 - val_acc: 0.8993\n",
      "Epoch 90/200\n",
      "280/280 [==============================] - 0s 59us/step - loss: 0.0390 - acc: 1.0000 - val_loss: 0.2497 - val_acc: 0.8993\n",
      "Epoch 91/200\n",
      "280/280 [==============================] - 0s 59us/step - loss: 0.0385 - acc: 1.0000 - val_loss: 0.2497 - val_acc: 0.8993\n",
      "Epoch 92/200\n",
      "280/280 [==============================] - 0s 54us/step - loss: 0.0383 - acc: 1.0000 - val_loss: 0.2496 - val_acc: 0.8993\n",
      "Epoch 93/200\n",
      "280/280 [==============================] - 0s 56us/step - loss: 0.0378 - acc: 1.0000 - val_loss: 0.2494 - val_acc: 0.8993\n",
      "Epoch 94/200\n",
      "280/280 [==============================] - 0s 56us/step - loss: 0.0373 - acc: 1.0000 - val_loss: 0.2493 - val_acc: 0.8993\n",
      "Epoch 95/200\n",
      "280/280 [==============================] - 0s 54us/step - loss: 0.0369 - acc: 1.0000 - val_loss: 0.2496 - val_acc: 0.8993\n",
      "Epoch 96/200\n",
      "280/280 [==============================] - 0s 57us/step - loss: 0.0365 - acc: 1.0000 - val_loss: 0.2495 - val_acc: 0.8993\n",
      "Epoch 97/200\n",
      "280/280 [==============================] - 0s 55us/step - loss: 0.0362 - acc: 1.0000 - val_loss: 0.2497 - val_acc: 0.8993\n",
      "Epoch 98/200\n",
      "280/280 [==============================] - 0s 60us/step - loss: 0.0358 - acc: 1.0000 - val_loss: 0.2499 - val_acc: 0.8993\n",
      "Epoch 99/200\n",
      "280/280 [==============================] - 0s 60us/step - loss: 0.0354 - acc: 1.0000 - val_loss: 0.2501 - val_acc: 0.8993\n",
      "Epoch 100/200\n",
      "280/280 [==============================] - 0s 59us/step - loss: 0.0351 - acc: 1.0000 - val_loss: 0.2498 - val_acc: 0.8993\n"
     ]
    }
   ],
   "source": [
    "# Fit model\n",
    "hist_1l = model_1l.fit(\n",
    "    x=X_tr, y=y_tr, validation_data=(X_va, y_va), epochs=200, callbacks=[early_stopping])"
   ]
  },
  {
   "cell_type": "code",
   "execution_count": 8,
   "metadata": {},
   "outputs": [
    {
     "data": {
      "image/png": "[encoded data removed]",
      "text/plain": [
       "<Figure size 864x288 with 2 Axes>"
      ]
     },
     "metadata": {
      "needs_background": "light"
     },
     "output_type": "display_data"
    }
   ],
   "source": [
    "%matplotlib inline\n",
    "import matplotlib.pyplot as plt\n",
    "import numpy as np\n",
    "\n",
    "# Create two plots: one for the loss value, one for the accuracy\n",
    "fig, (ax1, ax2) = plt.subplots(nrows=1, ncols=2, figsize=(12, 4))\n",
    "\n",
    "# Plot accuracy values\n",
    "ax1.plot(hist_1l.history['loss'], label='train loss')\n",
    "ax1.plot(hist_1l.history['val_loss'], label='val loss')\n",
    "ax1.set_title('Validation loss {:.3f} (mean last 3)'.format(\n",
    "    np.mean(hist_1l.history['val_loss'][-3:]) # last three values\n",
    "))\n",
    "ax1.set_xlabel('epoch')\n",
    "ax1.set_ylabel('loss value')\n",
    "ax1.legend()\n",
    "\n",
    "# Plot accuracy values\n",
    "ax2.plot(hist_1l.history['acc'], label='train acc')\n",
    "ax2.plot(hist_1l.history['val_acc'], label='val acc')\n",
    "ax2.set_title('Validation accuracy {:.3f} (mean last 3)'.format(\n",
    "    np.mean(hist_1l.history['val_acc'][-3:]) # last three values\n",
    "))\n",
    "ax2.set_xlabel('epoch')\n",
    "ax2.set_ylabel('accuracy')\n",
    "ax2.legend()\n",
    "plt.show()"
   ]
  },
  {
   "cell_type": "code",
   "execution_count": 9,
   "metadata": {},
   "outputs": [
    {
     "name": "stdout",
     "output_type": "stream",
     "text": [
      "50/50 [==============================] - 0s 105us/step\n",
      "Test loss: 0.21\n",
      "Test accuracy: 98.00%\n"
     ]
    }
   ],
   "source": [
    "(test_loss_1l, test_accuracy_1l) = model_1l.evaluate(X_te, y_te)\n",
    "\n",
    "print('Test loss: {:.2f}'.format(test_loss_1l))\n",
    "print('Test accuracy: {:.2f}%'.format(100*test_accuracy_1l))"
   ]
  },
  {
   "cell_type": "markdown",
   "metadata": {},
   "source": [
    "## 2-layer network"
   ]
  },
  {
   "cell_type": "code",
   "execution_count": 10,
   "metadata": {},
   "outputs": [
    {
     "name": "stdout",
     "output_type": "stream",
     "text": [
      "_________________________________________________________________\n",
      "Layer (type)                 Output Shape              Param #   \n",
      "=================================================================\n",
      "dense_1 (Dense)              (None, 256)               327936    \n",
      "_________________________________________________________________\n",
      "dense_2 (Dense)              (None, 6)                 1542      \n",
      "=================================================================\n",
      "Total params: 329,478\n",
      "Trainable params: 329,478\n",
      "Non-trainable params: 0\n",
      "_________________________________________________________________\n"
     ]
    }
   ],
   "source": [
    "model_2l = Sequential()\n",
    "model_2l.add(Dense(256, activation='relu', input_dim=1280))\n",
    "model_2l.add(Dense(6, activation='softmax'))\n",
    "model_2l.summary()"
   ]
  },
  {
   "cell_type": "code",
   "execution_count": 11,
   "metadata": {},
   "outputs": [],
   "source": [
    "# Define loss function, optimizer and metrics to track during training\n",
    "model_2l.compile(optimizer='sgd', loss='sparse_categorical_crossentropy', metrics=['acc'])"
   ]
  },
  {
   "cell_type": "code",
   "execution_count": 12,
   "metadata": {},
   "outputs": [
    {
     "name": "stdout",
     "output_type": "stream",
     "text": [
      "Train on 280 samples, validate on 139 samples\n",
      "Epoch 1/200\n",
      "280/280 [==============================] - 0s 2ms/step - loss: 1.4347 - acc: 0.4821 - val_loss: 1.0347 - val_acc: 0.7194\n",
      "Epoch 2/200\n",
      "280/280 [==============================] - 0s 567us/step - loss: 0.8889 - acc: 0.7929 - val_loss: 0.7462 - val_acc: 0.8273\n",
      "Epoch 3/200\n",
      "280/280 [==============================] - 0s 726us/step - loss: 0.6454 - acc: 0.8464 - val_loss: 0.6002 - val_acc: 0.9065\n",
      "Epoch 4/200\n",
      "280/280 [==============================] - 0s 635us/step - loss: 0.5118 - acc: 0.8857 - val_loss: 0.5169 - val_acc: 0.8921\n",
      "Epoch 5/200\n",
      "280/280 [==============================] - 0s 98us/step - loss: 0.4179 - acc: 0.9107 - val_loss: 0.4602 - val_acc: 0.9065\n",
      "Epoch 6/200\n",
      "280/280 [==============================] - 0s 305us/step - loss: 0.3574 - acc: 0.9286 - val_loss: 0.4230 - val_acc: 0.8993\n",
      "Epoch 7/200\n",
      "280/280 [==============================] - 0s 702us/step - loss: 0.3148 - acc: 0.9429 - val_loss: 0.3944 - val_acc: 0.8993\n",
      "Epoch 8/200\n",
      "280/280 [==============================] - 0s 118us/step - loss: 0.2768 - acc: 0.9536 - val_loss: 0.3710 - val_acc: 0.9065\n",
      "Epoch 9/200\n",
      "280/280 [==============================] - 0s 285us/step - loss: 0.2478 - acc: 0.9679 - val_loss: 0.3552 - val_acc: 0.9209\n",
      "Epoch 10/200\n",
      "280/280 [==============================] - 0s 146us/step - loss: 0.2251 - acc: 0.9714 - val_loss: 0.3417 - val_acc: 0.9209\n",
      "Epoch 11/200\n",
      "280/280 [==============================] - 0s 112us/step - loss: 0.2066 - acc: 0.9786 - val_loss: 0.3312 - val_acc: 0.9137\n",
      "Epoch 12/200\n",
      "280/280 [==============================] - 0s 106us/step - loss: 0.1881 - acc: 0.9857 - val_loss: 0.3222 - val_acc: 0.9137\n",
      "Epoch 13/200\n",
      "280/280 [==============================] - 0s 109us/step - loss: 0.1755 - acc: 0.9786 - val_loss: 0.3153 - val_acc: 0.9137\n",
      "Epoch 14/200\n",
      "280/280 [==============================] - 0s 255us/step - loss: 0.1635 - acc: 0.9857 - val_loss: 0.3099 - val_acc: 0.9137\n",
      "Epoch 15/200\n",
      "280/280 [==============================] - 0s 108us/step - loss: 0.1515 - acc: 0.9893 - val_loss: 0.3029 - val_acc: 0.9137\n",
      "Epoch 16/200\n",
      "280/280 [==============================] - 0s 211us/step - loss: 0.1425 - acc: 0.9893 - val_loss: 0.2987 - val_acc: 0.9137\n",
      "Epoch 17/200\n",
      "280/280 [==============================] - 0s 125us/step - loss: 0.1340 - acc: 0.9929 - val_loss: 0.2950 - val_acc: 0.9137\n",
      "Epoch 18/200\n",
      "280/280 [==============================] - 0s 244us/step - loss: 0.1260 - acc: 0.9929 - val_loss: 0.2912 - val_acc: 0.9137\n",
      "Epoch 19/200\n",
      "280/280 [==============================] - 0s 334us/step - loss: 0.1189 - acc: 0.9929 - val_loss: 0.2882 - val_acc: 0.9137\n",
      "Epoch 20/200\n",
      "280/280 [==============================] - 0s 329us/step - loss: 0.1127 - acc: 0.9929 - val_loss: 0.2861 - val_acc: 0.9137\n",
      "Epoch 21/200\n",
      "280/280 [==============================] - 0s 125us/step - loss: 0.1078 - acc: 0.9964 - val_loss: 0.2836 - val_acc: 0.9137\n",
      "Epoch 22/200\n",
      "280/280 [==============================] - 0s 119us/step - loss: 0.1021 - acc: 0.9964 - val_loss: 0.2812 - val_acc: 0.9137\n",
      "Epoch 23/200\n",
      "280/280 [==============================] - 0s 129us/step - loss: 0.0976 - acc: 0.9964 - val_loss: 0.2803 - val_acc: 0.9137\n",
      "Epoch 24/200\n",
      "280/280 [==============================] - 0s 134us/step - loss: 0.0927 - acc: 0.9964 - val_loss: 0.2773 - val_acc: 0.9137\n",
      "Epoch 25/200\n",
      "280/280 [==============================] - 0s 129us/step - loss: 0.0893 - acc: 0.9964 - val_loss: 0.2759 - val_acc: 0.9137\n",
      "Epoch 26/200\n",
      "280/280 [==============================] - 0s 124us/step - loss: 0.0855 - acc: 0.9964 - val_loss: 0.2747 - val_acc: 0.9137\n",
      "Epoch 27/200\n",
      "280/280 [==============================] - 0s 119us/step - loss: 0.0813 - acc: 0.9964 - val_loss: 0.2740 - val_acc: 0.9137\n",
      "Epoch 28/200\n",
      "280/280 [==============================] - 0s 121us/step - loss: 0.0784 - acc: 0.9964 - val_loss: 0.2730 - val_acc: 0.9137\n",
      "Epoch 29/200\n",
      "280/280 [==============================] - 0s 124us/step - loss: 0.0758 - acc: 0.9964 - val_loss: 0.2719 - val_acc: 0.9137\n",
      "Epoch 30/200\n",
      "280/280 [==============================] - 0s 122us/step - loss: 0.0729 - acc: 0.9964 - val_loss: 0.2708 - val_acc: 0.9137\n",
      "Epoch 31/200\n",
      "280/280 [==============================] - 0s 123us/step - loss: 0.0699 - acc: 0.9964 - val_loss: 0.2699 - val_acc: 0.9137\n",
      "Epoch 32/200\n",
      "280/280 [==============================] - 0s 128us/step - loss: 0.0678 - acc: 0.9964 - val_loss: 0.2691 - val_acc: 0.9137\n",
      "Epoch 33/200\n",
      "280/280 [==============================] - 0s 124us/step - loss: 0.0656 - acc: 0.9964 - val_loss: 0.2686 - val_acc: 0.9137\n",
      "Epoch 34/200\n",
      "280/280 [==============================] - 0s 115us/step - loss: 0.0636 - acc: 0.9964 - val_loss: 0.2677 - val_acc: 0.9137\n",
      "Epoch 35/200\n",
      "280/280 [==============================] - 0s 102us/step - loss: 0.0608 - acc: 1.0000 - val_loss: 0.2673 - val_acc: 0.9137\n",
      "Epoch 36/200\n",
      "280/280 [==============================] - 0s 99us/step - loss: 0.0591 - acc: 0.9964 - val_loss: 0.2668 - val_acc: 0.9137\n",
      "Epoch 37/200\n",
      "280/280 [==============================] - 0s 108us/step - loss: 0.0574 - acc: 1.0000 - val_loss: 0.2666 - val_acc: 0.9137\n",
      "Epoch 38/200\n",
      "280/280 [==============================] - 0s 101us/step - loss: 0.0554 - acc: 1.0000 - val_loss: 0.2659 - val_acc: 0.9137\n",
      "Epoch 39/200\n",
      "280/280 [==============================] - 0s 100us/step - loss: 0.0538 - acc: 1.0000 - val_loss: 0.2659 - val_acc: 0.9137\n",
      "Epoch 40/200\n",
      "280/280 [==============================] - 0s 107us/step - loss: 0.0523 - acc: 1.0000 - val_loss: 0.2658 - val_acc: 0.9137\n",
      "Epoch 41/200\n",
      "280/280 [==============================] - 0s 107us/step - loss: 0.0509 - acc: 1.0000 - val_loss: 0.2655 - val_acc: 0.9137\n",
      "Epoch 42/200\n",
      "280/280 [==============================] - 0s 105us/step - loss: 0.0492 - acc: 1.0000 - val_loss: 0.2651 - val_acc: 0.9137\n",
      "Epoch 43/200\n",
      "280/280 [==============================] - 0s 102us/step - loss: 0.0483 - acc: 1.0000 - val_loss: 0.2647 - val_acc: 0.9137\n",
      "Epoch 44/200\n",
      "280/280 [==============================] - 0s 101us/step - loss: 0.0470 - acc: 1.0000 - val_loss: 0.2646 - val_acc: 0.9137\n",
      "Epoch 45/200\n",
      "280/280 [==============================] - 0s 100us/step - loss: 0.0458 - acc: 1.0000 - val_loss: 0.2648 - val_acc: 0.9137\n",
      "Epoch 46/200\n",
      "280/280 [==============================] - 0s 102us/step - loss: 0.0442 - acc: 1.0000 - val_loss: 0.2646 - val_acc: 0.9137\n",
      "Epoch 47/200\n",
      "280/280 [==============================] - 0s 101us/step - loss: 0.0432 - acc: 1.0000 - val_loss: 0.2645 - val_acc: 0.9137\n",
      "Epoch 48/200\n",
      "280/280 [==============================] - 0s 100us/step - loss: 0.0421 - acc: 1.0000 - val_loss: 0.2643 - val_acc: 0.9137\n",
      "Epoch 49/200\n",
      "280/280 [==============================] - 0s 102us/step - loss: 0.0415 - acc: 1.0000 - val_loss: 0.2642 - val_acc: 0.9137\n",
      "Epoch 50/200\n",
      "280/280 [==============================] - 0s 97us/step - loss: 0.0403 - acc: 1.0000 - val_loss: 0.2641 - val_acc: 0.9137\n",
      "Epoch 51/200\n",
      "280/280 [==============================] - 0s 99us/step - loss: 0.0393 - acc: 1.0000 - val_loss: 0.2641 - val_acc: 0.9137\n",
      "Epoch 52/200\n",
      "280/280 [==============================] - 0s 101us/step - loss: 0.0384 - acc: 1.0000 - val_loss: 0.2646 - val_acc: 0.9137\n",
      "Epoch 53/200\n",
      "280/280 [==============================] - 0s 100us/step - loss: 0.0375 - acc: 1.0000 - val_loss: 0.2643 - val_acc: 0.9137\n",
      "Epoch 54/200\n",
      "280/280 [==============================] - 0s 100us/step - loss: 0.0367 - acc: 1.0000 - val_loss: 0.2643 - val_acc: 0.9065\n",
      "Epoch 55/200\n",
      "280/280 [==============================] - 0s 103us/step - loss: 0.0358 - acc: 1.0000 - val_loss: 0.2645 - val_acc: 0.9137\n",
      "Epoch 56/200\n",
      "280/280 [==============================] - 0s 105us/step - loss: 0.0352 - acc: 1.0000 - val_loss: 0.2647 - val_acc: 0.9137\n",
      "Epoch 57/200\n",
      "280/280 [==============================] - 0s 94us/step - loss: 0.0344 - acc: 1.0000 - val_loss: 0.2648 - val_acc: 0.9137\n"
     ]
    }
   ],
   "source": [
    "# Fit model\n",
    "hist_2l = model_2l.fit(\n",
    "    x=X_tr, y=y_tr, validation_data=(X_va, y_va), epochs=200, callbacks=[early_stopping])\n",
    "#    validation_split=0.8, batch_size=32, epochs=50,\n",
    "#    shuffle=True # Shuffle training samples\n",
    "# )"
   ]
  },
  {
   "cell_type": "code",
   "execution_count": 13,
   "metadata": {},
   "outputs": [
    {
     "data": {
      "image/png": "[encoded data removed]",
      "text/plain": [
       "<Figure size 864x288 with 2 Axes>"
      ]
     },
     "metadata": {
      "needs_background": "light"
     },
     "output_type": "display_data"
    }
   ],
   "source": [
    "%matplotlib inline\n",
    "import matplotlib.pyplot as plt\n",
    "import numpy as np\n",
    "\n",
    "# Create two plots: one for the loss value, one for the accuracy\n",
    "fig, (ax1, ax2) = plt.subplots(nrows=1, ncols=2, figsize=(12, 4))\n",
    "\n",
    "# Plot accuracy values\n",
    "ax1.plot(hist_2l.history['loss'], label='train loss')\n",
    "ax1.plot(hist_2l.history['val_loss'], label='val loss')\n",
    "ax1.set_title('Validation loss {:.3f} (mean last 3)'.format(\n",
    "    np.mean(hist_2l.history['val_loss'][-3:]) # last three values\n",
    "))\n",
    "ax1.set_xlabel('epoch')\n",
    "ax1.set_ylabel('loss value')\n",
    "ax1.legend()\n",
    "\n",
    "# Plot accuracy values\n",
    "ax2.plot(hist_2l.history['acc'], label='train acc')\n",
    "ax2.plot(hist_2l.history['val_acc'], label='val acc')\n",
    "ax2.set_title('Validation accuracy {:.3f} (mean last 3)'.format(\n",
    "    np.mean(hist_2l.history['val_acc'][-3:]) # last three values\n",
    "))\n",
    "ax2.set_xlabel('epoch')\n",
    "ax2.set_ylabel('accuracy')\n",
    "ax2.legend()\n",
    "plt.show()"
   ]
  },
  {
   "cell_type": "code",
   "execution_count": 14,
   "metadata": {},
   "outputs": [
    {
     "name": "stdout",
     "output_type": "stream",
     "text": [
      "50/50 [==============================] - 0s 113us/step\n",
      "Test loss: 0.22\n",
      "Test accuracy: 96.00%\n"
     ]
    }
   ],
   "source": [
    "(test_loss_2l, test_accuracy_2l) = model_2l.evaluate(X_te, y_te)\n",
    "\n",
    "print('Test loss: {:.2f}'.format(test_loss_2l))\n",
    "print('Test accuracy: {:.2f}%'.format(100*test_accuracy_2l))"
   ]
  },
  {
   "cell_type": "markdown",
   "metadata": {},
   "source": [
    "## Store results"
   ]
  },
  {
   "cell_type": "code",
   "execution_count": 15,
   "metadata": {},
   "outputs": [],
   "source": [
    "df_acc = pd.DataFrame(\n",
    "    {'model': ['1-layer nn', '2-layer nn'], 'test_accuracy': [100.*test_accuracy_1l, 100.*test_accuracy_2l]})\n",
    "df_acc.to_csv('acc_nn.csv', index=False)"
   ]
  }
 ],
 "metadata": {
  "kernelspec": {
   "display_name": "Python 3",
   "language": "python",
   "name": "python3"
  },
  "language_info": {
   "codemirror_mode": {
    "name": "ipython",
    "version": 3
   },
   "file_extension": ".py",
   "mimetype": "text/x-python",
   "name": "python",
   "nbconvert_exporter": "python",
   "pygments_lexer": "ipython3",
   "version": "3.6.10"
  }
 },
 "nbformat": 4,
 "nbformat_minor": 4
}
