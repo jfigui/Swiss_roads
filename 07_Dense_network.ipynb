{
 "cells": [
  {
   "cell_type": "markdown",
   "metadata": {},
   "source": [
    "# 07 Dense network"
   ]
  },
  {
   "cell_type": "code",
   "execution_count": 1,
   "metadata": {},
   "outputs": [],
   "source": [
    "%matplotlib inline\n",
    "\n",
    "import os\n",
    "import numpy as np\n",
    "import pandas as pd\n",
    "import matplotlib.pyplot as plt\n",
    "\n",
    "from tensorflow.keras import Sequential\n",
    "from tensorflow.keras.layers import Dense\n",
    "from tensorflow.keras import optimizers\n",
    "from tensorflow import keras"
   ]
  },
  {
   "cell_type": "code",
   "execution_count": 2,
   "metadata": {},
   "outputs": [],
   "source": [
    "# Some global variables\n",
    "features_basepath = '/data/ml_course/04_Applied_Machine_Learning_2/11_Course_project/'"
   ]
  },
  {
   "cell_type": "code",
   "execution_count": 3,
   "metadata": {},
   "outputs": [],
   "source": [
    "# Load data\n",
    "def load_data(features_basepath, features_file, one_hot_encoding=False):\n",
    "    with np.load(os.path.join(features_basepath, features_file), allow_pickle=False) as npz_file:\n",
    "        data = dict(npz_file.items())\n",
    "        \n",
    "    X = data['data']\n",
    "    if one_hot_encoding:\n",
    "        y = data['labels']\n",
    "    else:\n",
    "        y = np.where(data['labels'] == 1)[1]\n",
    "    names = data['names']\n",
    "    filenames = data['filenames']\n",
    "    \n",
    "    return X, y, names, filenames "
   ]
  },
  {
   "cell_type": "code",
   "execution_count": 4,
   "metadata": {},
   "outputs": [
    {
     "name": "stdout",
     "output_type": "stream",
     "text": [
      "(280, 1280) (280,)\n",
      "(139, 1280) (139,)\n",
      "(50, 1280) (50,)\n"
     ]
    }
   ],
   "source": [
    "X_tr, y_tr, names, fn_tr = load_data(features_basepath, 'Swissroads_train.npz', one_hot_encoding=False)\n",
    "X_va, y_va, _, fn_va = load_data(features_basepath, 'Swissroads_valid.npz', one_hot_encoding=False)\n",
    "X_te, y_te, _, fn_te = load_data(features_basepath, 'Swissroads_test.npz', one_hot_encoding=False)\n",
    "print(X_tr.shape, y_tr.shape)\n",
    "print(X_va.shape, y_va.shape)\n",
    "print(X_te.shape, y_te.shape)"
   ]
  },
  {
   "cell_type": "markdown",
   "metadata": {},
   "source": [
    "## 1-layer network"
   ]
  },
  {
   "cell_type": "code",
   "execution_count": 5,
   "metadata": {},
   "outputs": [
    {
     "name": "stdout",
     "output_type": "stream",
     "text": [
      "_________________________________________________________________\n",
      "Layer (type)                 Output Shape              Param #   \n",
      "=================================================================\n",
      "dense (Dense)                (None, 6)                 7686      \n",
      "=================================================================\n",
      "Total params: 7,686\n",
      "Trainable params: 7,686\n",
      "Non-trainable params: 0\n",
      "_________________________________________________________________\n"
     ]
    }
   ],
   "source": [
    "model_1l = Sequential()\n",
    "model_1l.add(Dense(6, activation='softmax', input_dim=1280))\n",
    "model_1l.summary()"
   ]
  },
  {
   "cell_type": "code",
   "execution_count": 6,
   "metadata": {},
   "outputs": [],
   "source": [
    "# Define loss function, optimizer and metrics to track during training\n",
    "model_1l.compile(optimizer='sgd', loss='sparse_categorical_crossentropy', metrics=['acc'])\n",
    "\n",
    "# End training when accuracy stops improving (optional)\n",
    "early_stopping = keras.callbacks.EarlyStopping(monitor='val_loss', patience=6)"
   ]
  },
  {
   "cell_type": "code",
   "execution_count": 7,
   "metadata": {},
   "outputs": [
    {
     "name": "stdout",
     "output_type": "stream",
     "text": [
      "Train on 280 samples, validate on 139 samples\n",
      "Epoch 1/200\n",
      "280/280 [==============================] - 0s 1ms/step - loss: 1.6305 - acc: 0.4357 - val_loss: 1.1154 - val_acc: 0.6763\n",
      "Epoch 2/200\n",
      "280/280 [==============================] - 0s 58us/step - loss: 0.9718 - acc: 0.7500 - val_loss: 0.7966 - val_acc: 0.7986\n",
      "Epoch 3/200\n",
      "280/280 [==============================] - 0s 55us/step - loss: 0.7187 - acc: 0.8179 - val_loss: 0.6488 - val_acc: 0.8273\n",
      "Epoch 4/200\n",
      "280/280 [==============================] - 0s 54us/step - loss: 0.5779 - acc: 0.8607 - val_loss: 0.5615 - val_acc: 0.8705\n",
      "Epoch 5/200\n",
      "280/280 [==============================] - 0s 51us/step - loss: 0.4872 - acc: 0.8714 - val_loss: 0.5049 - val_acc: 0.8921\n",
      "Epoch 6/200\n",
      "280/280 [==============================] - 0s 51us/step - loss: 0.4196 - acc: 0.9071 - val_loss: 0.4568 - val_acc: 0.8849\n",
      "Epoch 7/200\n",
      "280/280 [==============================] - 0s 51us/step - loss: 0.3724 - acc: 0.9071 - val_loss: 0.4270 - val_acc: 0.9065\n",
      "Epoch 8/200\n",
      "280/280 [==============================] - 0s 52us/step - loss: 0.3358 - acc: 0.9286 - val_loss: 0.4050 - val_acc: 0.9137\n",
      "Epoch 9/200\n",
      "280/280 [==============================] - 0s 53us/step - loss: 0.3087 - acc: 0.9321 - val_loss: 0.3839 - val_acc: 0.8993\n",
      "Epoch 10/200\n",
      "280/280 [==============================] - 0s 52us/step - loss: 0.2838 - acc: 0.9464 - val_loss: 0.3720 - val_acc: 0.9065\n",
      "Epoch 11/200\n",
      "280/280 [==============================] - 0s 51us/step - loss: 0.2622 - acc: 0.9536 - val_loss: 0.3582 - val_acc: 0.8993\n",
      "Epoch 12/200\n",
      "280/280 [==============================] - 0s 51us/step - loss: 0.2461 - acc: 0.9536 - val_loss: 0.3477 - val_acc: 0.8993\n",
      "Epoch 13/200\n",
      "280/280 [==============================] - 0s 50us/step - loss: 0.2289 - acc: 0.9536 - val_loss: 0.3408 - val_acc: 0.8993\n",
      "Epoch 14/200\n",
      "280/280 [==============================] - 0s 51us/step - loss: 0.2183 - acc: 0.9571 - val_loss: 0.3356 - val_acc: 0.9209\n",
      "Epoch 15/200\n",
      "280/280 [==============================] - 0s 52us/step - loss: 0.2068 - acc: 0.9607 - val_loss: 0.3291 - val_acc: 0.9065\n",
      "Epoch 16/200\n",
      "280/280 [==============================] - 0s 53us/step - loss: 0.1957 - acc: 0.9643 - val_loss: 0.3227 - val_acc: 0.8993\n",
      "Epoch 17/200\n",
      "280/280 [==============================] - 0s 51us/step - loss: 0.1857 - acc: 0.9679 - val_loss: 0.3188 - val_acc: 0.9137\n",
      "Epoch 18/200\n",
      "280/280 [==============================] - 0s 59us/step - loss: 0.1777 - acc: 0.9643 - val_loss: 0.3148 - val_acc: 0.8993\n",
      "Epoch 19/200\n",
      "280/280 [==============================] - 0s 54us/step - loss: 0.1708 - acc: 0.9750 - val_loss: 0.3108 - val_acc: 0.9137\n",
      "Epoch 20/200\n",
      "280/280 [==============================] - 0s 52us/step - loss: 0.1629 - acc: 0.9750 - val_loss: 0.3093 - val_acc: 0.9137\n",
      "Epoch 21/200\n",
      "280/280 [==============================] - 0s 52us/step - loss: 0.1577 - acc: 0.9750 - val_loss: 0.3054 - val_acc: 0.9137\n",
      "Epoch 22/200\n",
      "280/280 [==============================] - 0s 52us/step - loss: 0.1506 - acc: 0.9857 - val_loss: 0.3026 - val_acc: 0.9137\n",
      "Epoch 23/200\n",
      "280/280 [==============================] - 0s 51us/step - loss: 0.1456 - acc: 0.9857 - val_loss: 0.3010 - val_acc: 0.9137\n",
      "Epoch 24/200\n",
      "280/280 [==============================] - 0s 51us/step - loss: 0.1401 - acc: 0.9857 - val_loss: 0.2988 - val_acc: 0.9137\n",
      "Epoch 25/200\n",
      "280/280 [==============================] - 0s 51us/step - loss: 0.1350 - acc: 0.9857 - val_loss: 0.2973 - val_acc: 0.9137\n",
      "Epoch 26/200\n",
      "280/280 [==============================] - 0s 51us/step - loss: 0.1315 - acc: 0.9857 - val_loss: 0.2950 - val_acc: 0.9137\n",
      "Epoch 27/200\n",
      "280/280 [==============================] - 0s 52us/step - loss: 0.1270 - acc: 0.9857 - val_loss: 0.2940 - val_acc: 0.9137\n",
      "Epoch 28/200\n",
      "280/280 [==============================] - 0s 52us/step - loss: 0.1234 - acc: 0.9857 - val_loss: 0.2922 - val_acc: 0.9137\n",
      "Epoch 29/200\n",
      "280/280 [==============================] - 0s 53us/step - loss: 0.1191 - acc: 0.9857 - val_loss: 0.2906 - val_acc: 0.9137\n",
      "Epoch 30/200\n",
      "280/280 [==============================] - 0s 52us/step - loss: 0.1156 - acc: 0.9857 - val_loss: 0.2898 - val_acc: 0.9137\n",
      "Epoch 31/200\n",
      "280/280 [==============================] - 0s 52us/step - loss: 0.1125 - acc: 0.9857 - val_loss: 0.2884 - val_acc: 0.9137\n",
      "Epoch 32/200\n",
      "280/280 [==============================] - 0s 53us/step - loss: 0.1096 - acc: 0.9857 - val_loss: 0.2874 - val_acc: 0.9137\n",
      "Epoch 33/200\n",
      "280/280 [==============================] - 0s 52us/step - loss: 0.1070 - acc: 0.9857 - val_loss: 0.2866 - val_acc: 0.9137\n",
      "Epoch 34/200\n",
      "280/280 [==============================] - 0s 52us/step - loss: 0.1038 - acc: 0.9857 - val_loss: 0.2863 - val_acc: 0.9137\n",
      "Epoch 35/200\n",
      "280/280 [==============================] - 0s 51us/step - loss: 0.1013 - acc: 0.9857 - val_loss: 0.2851 - val_acc: 0.9137\n",
      "Epoch 36/200\n",
      "280/280 [==============================] - 0s 53us/step - loss: 0.0984 - acc: 0.9857 - val_loss: 0.2846 - val_acc: 0.9137\n",
      "Epoch 37/200\n",
      "280/280 [==============================] - 0s 64us/step - loss: 0.0960 - acc: 0.9857 - val_loss: 0.2841 - val_acc: 0.9137\n",
      "Epoch 38/200\n",
      "280/280 [==============================] - 0s 65us/step - loss: 0.0937 - acc: 0.9893 - val_loss: 0.2833 - val_acc: 0.9137\n",
      "Epoch 39/200\n",
      "280/280 [==============================] - 0s 64us/step - loss: 0.0914 - acc: 0.9893 - val_loss: 0.2828 - val_acc: 0.9137\n",
      "Epoch 40/200\n",
      "280/280 [==============================] - 0s 65us/step - loss: 0.0894 - acc: 0.9893 - val_loss: 0.2822 - val_acc: 0.9137\n",
      "Epoch 41/200\n",
      "280/280 [==============================] - 0s 66us/step - loss: 0.0878 - acc: 0.9893 - val_loss: 0.2819 - val_acc: 0.9137\n",
      "Epoch 42/200\n",
      "280/280 [==============================] - 0s 57us/step - loss: 0.0857 - acc: 0.9929 - val_loss: 0.2810 - val_acc: 0.9137\n",
      "Epoch 43/200\n",
      "280/280 [==============================] - 0s 51us/step - loss: 0.0835 - acc: 0.9929 - val_loss: 0.2809 - val_acc: 0.9137\n",
      "Epoch 44/200\n",
      "280/280 [==============================] - 0s 55us/step - loss: 0.0816 - acc: 0.9964 - val_loss: 0.2805 - val_acc: 0.9137\n",
      "Epoch 45/200\n",
      "280/280 [==============================] - 0s 51us/step - loss: 0.0801 - acc: 0.9964 - val_loss: 0.2804 - val_acc: 0.9137\n",
      "Epoch 46/200\n",
      "280/280 [==============================] - 0s 53us/step - loss: 0.0782 - acc: 0.9964 - val_loss: 0.2805 - val_acc: 0.9137\n",
      "Epoch 47/200\n",
      "280/280 [==============================] - 0s 52us/step - loss: 0.0768 - acc: 0.9929 - val_loss: 0.2803 - val_acc: 0.9137\n",
      "Epoch 48/200\n",
      "280/280 [==============================] - 0s 53us/step - loss: 0.0753 - acc: 0.9964 - val_loss: 0.2800 - val_acc: 0.9137\n",
      "Epoch 49/200\n",
      "280/280 [==============================] - 0s 51us/step - loss: 0.0736 - acc: 0.9964 - val_loss: 0.2799 - val_acc: 0.9137\n",
      "Epoch 50/200\n",
      "280/280 [==============================] - 0s 53us/step - loss: 0.0726 - acc: 0.9964 - val_loss: 0.2792 - val_acc: 0.9137\n",
      "Epoch 51/200\n",
      "280/280 [==============================] - 0s 52us/step - loss: 0.0712 - acc: 0.9964 - val_loss: 0.2790 - val_acc: 0.9137\n",
      "Epoch 52/200\n",
      "280/280 [==============================] - 0s 54us/step - loss: 0.0697 - acc: 0.9964 - val_loss: 0.2790 - val_acc: 0.9137\n",
      "Epoch 53/200\n",
      "280/280 [==============================] - 0s 52us/step - loss: 0.0682 - acc: 0.9964 - val_loss: 0.2787 - val_acc: 0.9137\n",
      "Epoch 54/200\n",
      "280/280 [==============================] - 0s 52us/step - loss: 0.0674 - acc: 0.9964 - val_loss: 0.2785 - val_acc: 0.9137\n",
      "Epoch 55/200\n",
      "280/280 [==============================] - 0s 56us/step - loss: 0.0661 - acc: 0.9964 - val_loss: 0.2787 - val_acc: 0.9137\n",
      "Epoch 56/200\n",
      "280/280 [==============================] - 0s 56us/step - loss: 0.0649 - acc: 0.9964 - val_loss: 0.2786 - val_acc: 0.9137\n",
      "Epoch 57/200\n",
      "280/280 [==============================] - 0s 54us/step - loss: 0.0638 - acc: 0.9964 - val_loss: 0.2785 - val_acc: 0.9137\n",
      "Epoch 58/200\n",
      "280/280 [==============================] - 0s 52us/step - loss: 0.0628 - acc: 1.0000 - val_loss: 0.2783 - val_acc: 0.9137\n",
      "Epoch 59/200\n",
      "280/280 [==============================] - 0s 52us/step - loss: 0.0615 - acc: 0.9964 - val_loss: 0.2780 - val_acc: 0.9137\n",
      "Epoch 60/200\n",
      "280/280 [==============================] - 0s 54us/step - loss: 0.0606 - acc: 0.9964 - val_loss: 0.2778 - val_acc: 0.9137\n",
      "Epoch 61/200\n",
      "280/280 [==============================] - 0s 53us/step - loss: 0.0596 - acc: 0.9964 - val_loss: 0.2774 - val_acc: 0.9137\n",
      "Epoch 62/200\n",
      "280/280 [==============================] - 0s 52us/step - loss: 0.0586 - acc: 1.0000 - val_loss: 0.2773 - val_acc: 0.9137\n",
      "Epoch 63/200\n",
      "280/280 [==============================] - 0s 53us/step - loss: 0.0578 - acc: 1.0000 - val_loss: 0.2770 - val_acc: 0.9137\n",
      "Epoch 64/200\n",
      "280/280 [==============================] - 0s 50us/step - loss: 0.0568 - acc: 1.0000 - val_loss: 0.2770 - val_acc: 0.9137\n",
      "Epoch 65/200\n",
      "280/280 [==============================] - 0s 51us/step - loss: 0.0560 - acc: 1.0000 - val_loss: 0.2769 - val_acc: 0.9137\n",
      "Epoch 66/200\n",
      "280/280 [==============================] - 0s 56us/step - loss: 0.0553 - acc: 1.0000 - val_loss: 0.2770 - val_acc: 0.9137\n",
      "Epoch 67/200\n",
      "280/280 [==============================] - 0s 50us/step - loss: 0.0544 - acc: 1.0000 - val_loss: 0.2771 - val_acc: 0.9137\n",
      "Epoch 68/200\n",
      "280/280 [==============================] - 0s 52us/step - loss: 0.0535 - acc: 1.0000 - val_loss: 0.2770 - val_acc: 0.9137\n",
      "Epoch 69/200\n",
      "280/280 [==============================] - 0s 54us/step - loss: 0.0529 - acc: 1.0000 - val_loss: 0.2766 - val_acc: 0.9137\n",
      "Epoch 70/200\n",
      "280/280 [==============================] - 0s 57us/step - loss: 0.0522 - acc: 1.0000 - val_loss: 0.2767 - val_acc: 0.9137\n",
      "Epoch 71/200\n",
      "280/280 [==============================] - 0s 49us/step - loss: 0.0514 - acc: 1.0000 - val_loss: 0.2767 - val_acc: 0.9137\n",
      "Epoch 72/200\n",
      "280/280 [==============================] - 0s 53us/step - loss: 0.0506 - acc: 1.0000 - val_loss: 0.2765 - val_acc: 0.9137\n",
      "Epoch 73/200\n",
      "280/280 [==============================] - 0s 53us/step - loss: 0.0499 - acc: 1.0000 - val_loss: 0.2763 - val_acc: 0.9137\n",
      "Epoch 74/200\n",
      "280/280 [==============================] - 0s 55us/step - loss: 0.0491 - acc: 1.0000 - val_loss: 0.2762 - val_acc: 0.9137\n",
      "Epoch 75/200\n",
      "280/280 [==============================] - 0s 56us/step - loss: 0.0484 - acc: 1.0000 - val_loss: 0.2764 - val_acc: 0.9137\n",
      "Epoch 76/200\n",
      "280/280 [==============================] - 0s 53us/step - loss: 0.0478 - acc: 1.0000 - val_loss: 0.2765 - val_acc: 0.9137\n",
      "Epoch 77/200\n",
      "280/280 [==============================] - 0s 52us/step - loss: 0.0473 - acc: 1.0000 - val_loss: 0.2766 - val_acc: 0.9137\n",
      "Epoch 78/200\n",
      "280/280 [==============================] - 0s 52us/step - loss: 0.0467 - acc: 1.0000 - val_loss: 0.2765 - val_acc: 0.9137\n",
      "Epoch 79/200\n",
      "280/280 [==============================] - 0s 51us/step - loss: 0.0461 - acc: 1.0000 - val_loss: 0.2763 - val_acc: 0.9137\n",
      "Epoch 80/200\n",
      "280/280 [==============================] - 0s 54us/step - loss: 0.0455 - acc: 1.0000 - val_loss: 0.2763 - val_acc: 0.9137\n"
     ]
    }
   ],
   "source": [
    "# Fit model\n",
    "hist_1l = model_1l.fit(\n",
    "    x=X_tr, y=y_tr, validation_data=(X_va, y_va), epochs=200, callbacks=[early_stopping])"
   ]
  },
  {
   "cell_type": "code",
   "execution_count": 8,
   "metadata": {},
   "outputs": [
    {
     "data": {
      "image/png": "[encoded data removed]",
      "text/plain": [
       "<Figure size 864x288 with 2 Axes>"
      ]
     },
     "metadata": {
      "needs_background": "light"
     },
     "output_type": "display_data"
    }
   ],
   "source": [
    "%matplotlib inline\n",
    "import matplotlib.pyplot as plt\n",
    "import numpy as np\n",
    "\n",
    "# Create two plots: one for the loss value, one for the accuracy\n",
    "fig, (ax1, ax2) = plt.subplots(nrows=1, ncols=2, figsize=(12, 4))\n",
    "\n",
    "# Plot accuracy values\n",
    "ax1.plot(hist_1l.history['loss'], label='train loss')\n",
    "ax1.plot(hist_1l.history['val_loss'], label='val loss')\n",
    "ax1.set_title('Validation loss {:.3f} (mean last 3)'.format(\n",
    "    np.mean(hist_1l.history['val_loss'][-3:]) # last three values\n",
    "))\n",
    "ax1.set_xlabel('epoch')\n",
    "ax1.set_ylabel('loss value')\n",
    "ax1.legend()\n",
    "\n",
    "# Plot accuracy values\n",
    "ax2.plot(hist_1l.history['acc'], label='train acc')\n",
    "ax2.plot(hist_1l.history['val_acc'], label='val acc')\n",
    "ax2.set_title('Validation accuracy {:.3f} (mean last 3)'.format(\n",
    "    np.mean(hist_1l.history['val_acc'][-3:]) # last three values\n",
    "))\n",
    "ax2.set_xlabel('epoch')\n",
    "ax2.set_ylabel('accuracy')\n",
    "ax2.legend()\n",
    "plt.show()"
   ]
  },
  {
   "cell_type": "code",
   "execution_count": 9,
   "metadata": {},
   "outputs": [
    {
     "name": "stdout",
     "output_type": "stream",
     "text": [
      "50/50 [==============================] - 0s 98us/step\n",
      "Test loss: 0.21\n",
      "Test accuracy: 92.00%\n"
     ]
    }
   ],
   "source": [
    "(test_loss_1l, test_accuracy_1l) = model_1l.evaluate(X_te, y_te)\n",
    "\n",
    "print('Test loss: {:.2f}'.format(test_loss_1l))\n",
    "print('Test accuracy: {:.2f}%'.format(100*test_accuracy_1l))"
   ]
  },
  {
   "cell_type": "markdown",
   "metadata": {},
   "source": [
    "## 2-layer network"
   ]
  },
  {
   "cell_type": "code",
   "execution_count": 10,
   "metadata": {},
   "outputs": [
    {
     "name": "stdout",
     "output_type": "stream",
     "text": [
      "_________________________________________________________________\n",
      "Layer (type)                 Output Shape              Param #   \n",
      "=================================================================\n",
      "dense_1 (Dense)              (None, 256)               327936    \n",
      "_________________________________________________________________\n",
      "dense_2 (Dense)              (None, 6)                 1542      \n",
      "=================================================================\n",
      "Total params: 329,478\n",
      "Trainable params: 329,478\n",
      "Non-trainable params: 0\n",
      "_________________________________________________________________\n"
     ]
    }
   ],
   "source": [
    "model_2l = Sequential()\n",
    "model_2l.add(Dense(256, activation='relu', input_dim=1280))\n",
    "model_2l.add(Dense(6, activation='softmax'))\n",
    "model_2l.summary()"
   ]
  },
  {
   "cell_type": "code",
   "execution_count": 11,
   "metadata": {},
   "outputs": [],
   "source": [
    "# Define loss function, optimizer and metrics to track during training\n",
    "model_2l.compile(optimizer='sgd', loss='sparse_categorical_crossentropy', metrics=['acc'])"
   ]
  },
  {
   "cell_type": "code",
   "execution_count": 12,
   "metadata": {},
   "outputs": [
    {
     "name": "stdout",
     "output_type": "stream",
     "text": [
      "Train on 280 samples, validate on 139 samples\n",
      "Epoch 1/200\n",
      "280/280 [==============================] - 0s 1ms/step - loss: 1.4396 - acc: 0.5464 - val_loss: 1.0760 - val_acc: 0.7050\n",
      "Epoch 2/200\n",
      "280/280 [==============================] - 0s 135us/step - loss: 0.8721 - acc: 0.7929 - val_loss: 0.7776 - val_acc: 0.8201\n",
      "Epoch 3/200\n",
      "280/280 [==============================] - 0s 124us/step - loss: 0.6357 - acc: 0.8607 - val_loss: 0.6190 - val_acc: 0.8561\n",
      "Epoch 4/200\n",
      "280/280 [==============================] - 0s 123us/step - loss: 0.5030 - acc: 0.9036 - val_loss: 0.5294 - val_acc: 0.8633\n",
      "Epoch 5/200\n",
      "280/280 [==============================] - 0s 125us/step - loss: 0.4159 - acc: 0.9214 - val_loss: 0.4706 - val_acc: 0.8849\n",
      "Epoch 6/200\n",
      "280/280 [==============================] - 0s 130us/step - loss: 0.3547 - acc: 0.9286 - val_loss: 0.4315 - val_acc: 0.8993\n",
      "Epoch 7/200\n",
      "280/280 [==============================] - 0s 122us/step - loss: 0.3079 - acc: 0.9607 - val_loss: 0.3990 - val_acc: 0.9065\n",
      "Epoch 8/200\n",
      "280/280 [==============================] - 0s 118us/step - loss: 0.2751 - acc: 0.9536 - val_loss: 0.3761 - val_acc: 0.8993\n",
      "Epoch 9/200\n",
      "280/280 [==============================] - 0s 97us/step - loss: 0.2465 - acc: 0.9643 - val_loss: 0.3633 - val_acc: 0.8705\n",
      "Epoch 10/200\n",
      "280/280 [==============================] - 0s 95us/step - loss: 0.2239 - acc: 0.9679 - val_loss: 0.3421 - val_acc: 0.9065\n",
      "Epoch 11/200\n",
      "280/280 [==============================] - 0s 97us/step - loss: 0.2052 - acc: 0.9643 - val_loss: 0.3289 - val_acc: 0.9065\n",
      "Epoch 12/200\n",
      "280/280 [==============================] - 0s 95us/step - loss: 0.1880 - acc: 0.9714 - val_loss: 0.3196 - val_acc: 0.9137\n",
      "Epoch 13/200\n",
      "280/280 [==============================] - 0s 101us/step - loss: 0.1752 - acc: 0.9857 - val_loss: 0.3133 - val_acc: 0.8993\n",
      "Epoch 14/200\n",
      "280/280 [==============================] - 0s 96us/step - loss: 0.1643 - acc: 0.9821 - val_loss: 0.3039 - val_acc: 0.9137\n",
      "Epoch 15/200\n",
      "280/280 [==============================] - 0s 107us/step - loss: 0.1516 - acc: 0.9929 - val_loss: 0.2985 - val_acc: 0.9065\n",
      "Epoch 16/200\n",
      "280/280 [==============================] - 0s 96us/step - loss: 0.1433 - acc: 0.9964 - val_loss: 0.2926 - val_acc: 0.9065\n",
      "Epoch 17/200\n",
      "280/280 [==============================] - 0s 98us/step - loss: 0.1341 - acc: 0.9964 - val_loss: 0.2877 - val_acc: 0.8993\n",
      "Epoch 18/200\n",
      "280/280 [==============================] - 0s 98us/step - loss: 0.1266 - acc: 0.9964 - val_loss: 0.2838 - val_acc: 0.9065\n",
      "Epoch 19/200\n",
      "280/280 [==============================] - 0s 96us/step - loss: 0.1206 - acc: 0.9964 - val_loss: 0.2807 - val_acc: 0.8993\n",
      "Epoch 20/200\n",
      "280/280 [==============================] - 0s 91us/step - loss: 0.1135 - acc: 0.9964 - val_loss: 0.2765 - val_acc: 0.8993\n",
      "Epoch 21/200\n",
      "280/280 [==============================] - 0s 86us/step - loss: 0.1084 - acc: 0.9964 - val_loss: 0.2739 - val_acc: 0.9065\n",
      "Epoch 22/200\n",
      "280/280 [==============================] - 0s 90us/step - loss: 0.1032 - acc: 0.9964 - val_loss: 0.2710 - val_acc: 0.8993\n",
      "Epoch 23/200\n",
      "280/280 [==============================] - 0s 88us/step - loss: 0.0986 - acc: 0.9964 - val_loss: 0.2683 - val_acc: 0.8993\n",
      "Epoch 24/200\n",
      "280/280 [==============================] - 0s 84us/step - loss: 0.0946 - acc: 0.9964 - val_loss: 0.2667 - val_acc: 0.8993\n",
      "Epoch 25/200\n",
      "280/280 [==============================] - 0s 90us/step - loss: 0.0901 - acc: 0.9964 - val_loss: 0.2641 - val_acc: 0.8993\n",
      "Epoch 26/200\n",
      "280/280 [==============================] - 0s 89us/step - loss: 0.0866 - acc: 0.9964 - val_loss: 0.2635 - val_acc: 0.8993\n",
      "Epoch 27/200\n",
      "280/280 [==============================] - 0s 95us/step - loss: 0.0834 - acc: 0.9964 - val_loss: 0.2606 - val_acc: 0.8993\n",
      "Epoch 28/200\n",
      "280/280 [==============================] - 0s 95us/step - loss: 0.0800 - acc: 0.9964 - val_loss: 0.2597 - val_acc: 0.8993\n",
      "Epoch 29/200\n",
      "280/280 [==============================] - 0s 93us/step - loss: 0.0769 - acc: 0.9964 - val_loss: 0.2578 - val_acc: 0.8993\n",
      "Epoch 30/200\n",
      "280/280 [==============================] - 0s 95us/step - loss: 0.0738 - acc: 0.9964 - val_loss: 0.2569 - val_acc: 0.9065\n",
      "Epoch 31/200\n",
      "280/280 [==============================] - 0s 87us/step - loss: 0.0712 - acc: 0.9964 - val_loss: 0.2558 - val_acc: 0.9065\n",
      "Epoch 32/200\n",
      "280/280 [==============================] - 0s 87us/step - loss: 0.0688 - acc: 0.9964 - val_loss: 0.2557 - val_acc: 0.9065\n",
      "Epoch 33/200\n",
      "280/280 [==============================] - 0s 83us/step - loss: 0.0668 - acc: 0.9964 - val_loss: 0.2535 - val_acc: 0.9065\n",
      "Epoch 34/200\n",
      "280/280 [==============================] - 0s 86us/step - loss: 0.0647 - acc: 0.9964 - val_loss: 0.2536 - val_acc: 0.9065\n",
      "Epoch 35/200\n",
      "280/280 [==============================] - 0s 84us/step - loss: 0.0623 - acc: 0.9964 - val_loss: 0.2531 - val_acc: 0.9065\n",
      "Epoch 36/200\n",
      "280/280 [==============================] - 0s 90us/step - loss: 0.0603 - acc: 0.9964 - val_loss: 0.2514 - val_acc: 0.9065\n",
      "Epoch 37/200\n",
      "280/280 [==============================] - 0s 87us/step - loss: 0.0585 - acc: 0.9964 - val_loss: 0.2510 - val_acc: 0.9065\n",
      "Epoch 38/200\n",
      "280/280 [==============================] - 0s 87us/step - loss: 0.0569 - acc: 0.9964 - val_loss: 0.2503 - val_acc: 0.9065\n",
      "Epoch 39/200\n",
      "280/280 [==============================] - 0s 96us/step - loss: 0.0552 - acc: 0.9964 - val_loss: 0.2505 - val_acc: 0.8993\n",
      "Epoch 40/200\n",
      "280/280 [==============================] - 0s 89us/step - loss: 0.0535 - acc: 0.9964 - val_loss: 0.2496 - val_acc: 0.9065\n",
      "Epoch 41/200\n",
      "280/280 [==============================] - 0s 95us/step - loss: 0.0519 - acc: 1.0000 - val_loss: 0.2489 - val_acc: 0.9065\n",
      "Epoch 42/200\n",
      "280/280 [==============================] - 0s 87us/step - loss: 0.0503 - acc: 1.0000 - val_loss: 0.2479 - val_acc: 0.9065\n",
      "Epoch 43/200\n",
      "280/280 [==============================] - 0s 89us/step - loss: 0.0489 - acc: 1.0000 - val_loss: 0.2477 - val_acc: 0.9065\n",
      "Epoch 44/200\n",
      "280/280 [==============================] - 0s 89us/step - loss: 0.0475 - acc: 1.0000 - val_loss: 0.2471 - val_acc: 0.9065\n",
      "Epoch 45/200\n",
      "280/280 [==============================] - 0s 91us/step - loss: 0.0463 - acc: 1.0000 - val_loss: 0.2463 - val_acc: 0.9065\n",
      "Epoch 46/200\n",
      "280/280 [==============================] - 0s 94us/step - loss: 0.0453 - acc: 1.0000 - val_loss: 0.2457 - val_acc: 0.9065\n",
      "Epoch 47/200\n",
      "280/280 [==============================] - 0s 112us/step - loss: 0.0439 - acc: 1.0000 - val_loss: 0.2458 - val_acc: 0.9065\n",
      "Epoch 48/200\n",
      "280/280 [==============================] - 0s 108us/step - loss: 0.0431 - acc: 1.0000 - val_loss: 0.2457 - val_acc: 0.9065\n",
      "Epoch 49/200\n",
      "280/280 [==============================] - 0s 111us/step - loss: 0.0420 - acc: 1.0000 - val_loss: 0.2455 - val_acc: 0.9065\n",
      "Epoch 50/200\n",
      "280/280 [==============================] - 0s 96us/step - loss: 0.0409 - acc: 1.0000 - val_loss: 0.2448 - val_acc: 0.9065\n",
      "Epoch 51/200\n",
      "280/280 [==============================] - 0s 94us/step - loss: 0.0400 - acc: 1.0000 - val_loss: 0.2442 - val_acc: 0.9065\n",
      "Epoch 52/200\n",
      "280/280 [==============================] - 0s 96us/step - loss: 0.0389 - acc: 1.0000 - val_loss: 0.2437 - val_acc: 0.9065\n",
      "Epoch 53/200\n",
      "280/280 [==============================] - 0s 90us/step - loss: 0.0381 - acc: 1.0000 - val_loss: 0.2437 - val_acc: 0.9065\n",
      "Epoch 54/200\n",
      "280/280 [==============================] - 0s 94us/step - loss: 0.0372 - acc: 1.0000 - val_loss: 0.2434 - val_acc: 0.9065\n",
      "Epoch 55/200\n",
      "280/280 [==============================] - 0s 99us/step - loss: 0.0364 - acc: 1.0000 - val_loss: 0.2434 - val_acc: 0.9065\n",
      "Epoch 56/200\n",
      "280/280 [==============================] - 0s 91us/step - loss: 0.0357 - acc: 1.0000 - val_loss: 0.2427 - val_acc: 0.9065\n",
      "Epoch 57/200\n",
      "280/280 [==============================] - 0s 90us/step - loss: 0.0348 - acc: 1.0000 - val_loss: 0.2423 - val_acc: 0.9065\n",
      "Epoch 58/200\n",
      "280/280 [==============================] - 0s 96us/step - loss: 0.0341 - acc: 1.0000 - val_loss: 0.2423 - val_acc: 0.9065\n",
      "Epoch 59/200\n",
      "280/280 [==============================] - 0s 97us/step - loss: 0.0336 - acc: 1.0000 - val_loss: 0.2419 - val_acc: 0.9065\n",
      "Epoch 60/200\n",
      "280/280 [==============================] - 0s 96us/step - loss: 0.0327 - acc: 1.0000 - val_loss: 0.2424 - val_acc: 0.9065\n",
      "Epoch 61/200\n",
      "280/280 [==============================] - 0s 92us/step - loss: 0.0321 - acc: 1.0000 - val_loss: 0.2423 - val_acc: 0.9065\n",
      "Epoch 62/200\n",
      "280/280 [==============================] - 0s 91us/step - loss: 0.0315 - acc: 1.0000 - val_loss: 0.2421 - val_acc: 0.9065\n",
      "Epoch 63/200\n",
      "280/280 [==============================] - 0s 89us/step - loss: 0.0307 - acc: 1.0000 - val_loss: 0.2418 - val_acc: 0.9065\n",
      "Epoch 64/200\n",
      "280/280 [==============================] - 0s 90us/step - loss: 0.0303 - acc: 1.0000 - val_loss: 0.2419 - val_acc: 0.9065\n",
      "Epoch 65/200\n",
      "280/280 [==============================] - 0s 86us/step - loss: 0.0297 - acc: 1.0000 - val_loss: 0.2419 - val_acc: 0.9065\n",
      "Epoch 66/200\n",
      "280/280 [==============================] - 0s 87us/step - loss: 0.0290 - acc: 1.0000 - val_loss: 0.2419 - val_acc: 0.9065\n",
      "Epoch 67/200\n",
      "280/280 [==============================] - 0s 92us/step - loss: 0.0285 - acc: 1.0000 - val_loss: 0.2414 - val_acc: 0.9065\n",
      "Epoch 68/200\n",
      "280/280 [==============================] - 0s 93us/step - loss: 0.0281 - acc: 1.0000 - val_loss: 0.2414 - val_acc: 0.9065\n",
      "Epoch 69/200\n",
      "280/280 [==============================] - 0s 93us/step - loss: 0.0275 - acc: 1.0000 - val_loss: 0.2411 - val_acc: 0.9065\n",
      "Epoch 70/200\n",
      "280/280 [==============================] - 0s 93us/step - loss: 0.0272 - acc: 1.0000 - val_loss: 0.2410 - val_acc: 0.9065\n",
      "Epoch 71/200\n",
      "280/280 [==============================] - 0s 91us/step - loss: 0.0266 - acc: 1.0000 - val_loss: 0.2409 - val_acc: 0.9065\n",
      "Epoch 72/200\n",
      "280/280 [==============================] - 0s 96us/step - loss: 0.0261 - acc: 1.0000 - val_loss: 0.2407 - val_acc: 0.9065\n",
      "Epoch 73/200\n",
      "280/280 [==============================] - 0s 87us/step - loss: 0.0257 - acc: 1.0000 - val_loss: 0.2410 - val_acc: 0.9065\n",
      "Epoch 74/200\n",
      "280/280 [==============================] - 0s 101us/step - loss: 0.0252 - acc: 1.0000 - val_loss: 0.2408 - val_acc: 0.9065\n",
      "Epoch 75/200\n",
      "280/280 [==============================] - 0s 104us/step - loss: 0.0248 - acc: 1.0000 - val_loss: 0.2410 - val_acc: 0.9065\n",
      "Epoch 76/200\n",
      "280/280 [==============================] - 0s 92us/step - loss: 0.0245 - acc: 1.0000 - val_loss: 0.2412 - val_acc: 0.9065\n",
      "Epoch 77/200\n",
      "280/280 [==============================] - 0s 94us/step - loss: 0.0240 - acc: 1.0000 - val_loss: 0.2411 - val_acc: 0.9065\n",
      "Epoch 78/200\n",
      "280/280 [==============================] - 0s 96us/step - loss: 0.0237 - acc: 1.0000 - val_loss: 0.2409 - val_acc: 0.9065\n"
     ]
    }
   ],
   "source": [
    "# Fit model\n",
    "hist_2l = model_2l.fit(\n",
    "    x=X_tr, y=y_tr, validation_data=(X_va, y_va), epochs=200, callbacks=[early_stopping])\n",
    "#    validation_split=0.8, batch_size=32, epochs=50,\n",
    "#    shuffle=True # Shuffle training samples\n",
    "# )"
   ]
  },
  {
   "cell_type": "code",
   "execution_count": 13,
   "metadata": {},
   "outputs": [
    {
     "data": {
      "image/png": "[encoded data removed]",
      "text/plain": [
       "<Figure size 864x288 with 2 Axes>"
      ]
     },
     "metadata": {
      "needs_background": "light"
     },
     "output_type": "display_data"
    }
   ],
   "source": [
    "%matplotlib inline\n",
    "import matplotlib.pyplot as plt\n",
    "import numpy as np\n",
    "\n",
    "# Create two plots: one for the loss value, one for the accuracy\n",
    "fig, (ax1, ax2) = plt.subplots(nrows=1, ncols=2, figsize=(12, 4))\n",
    "\n",
    "# Plot accuracy values\n",
    "ax1.plot(hist_2l.history['loss'], label='train loss')\n",
    "ax1.plot(hist_2l.history['val_loss'], label='val loss')\n",
    "ax1.set_title('Validation loss {:.3f} (mean last 3)'.format(\n",
    "    np.mean(hist_2l.history['val_loss'][-3:]) # last three values\n",
    "))\n",
    "ax1.set_xlabel('epoch')\n",
    "ax1.set_ylabel('loss value')\n",
    "ax1.legend()\n",
    "\n",
    "# Plot accuracy values\n",
    "ax2.plot(hist_2l.history['acc'], label='train acc')\n",
    "ax2.plot(hist_2l.history['val_acc'], label='val acc')\n",
    "ax2.set_title('Validation accuracy {:.3f} (mean last 3)'.format(\n",
    "    np.mean(hist_2l.history['val_acc'][-3:]) # last three values\n",
    "))\n",
    "ax2.set_xlabel('epoch')\n",
    "ax2.set_ylabel('accuracy')\n",
    "ax2.legend()\n",
    "plt.show()"
   ]
  },
  {
   "cell_type": "code",
   "execution_count": 14,
   "metadata": {},
   "outputs": [
    {
     "name": "stdout",
     "output_type": "stream",
     "text": [
      "50/50 [==============================] - 0s 109us/step\n",
      "Test loss: 0.22\n",
      "Test accuracy: 94.00%\n"
     ]
    }
   ],
   "source": [
    "(test_loss_2l, test_accuracy_2l) = model_2l.evaluate(X_te, y_te)\n",
    "\n",
    "print('Test loss: {:.2f}'.format(test_loss_2l))\n",
    "print('Test accuracy: {:.2f}%'.format(100*test_accuracy_2l))"
   ]
  },
  {
   "cell_type": "markdown",
   "metadata": {},
   "source": [
    "## Store results"
   ]
  },
  {
   "cell_type": "code",
   "execution_count": 15,
   "metadata": {},
   "outputs": [],
   "source": [
    "df_acc = pd.DataFrame(\n",
    "    {'model': ['1-layer nn', '2-layer nn'], 'test_accuracy': [100.*test_accuracy_1l, 100.*test_accuracy_2l]})\n",
    "df_acc.to_csv('acc_nn.csv', index=False)"
   ]
  }
 ],
 "metadata": {
  "kernelspec": {
   "display_name": "Python 3",
   "language": "python",
   "name": "python3"
  },
  "language_info": {
   "codemirror_mode": {
    "name": "ipython",
    "version": 3
   },
   "file_extension": ".py",
   "mimetype": "text/x-python",
   "name": "python",
   "nbconvert_exporter": "python",
   "pygments_lexer": "ipython3",
   "version": "3.6.10"
  }
 },
 "nbformat": 4,
 "nbformat_minor": 4
}
