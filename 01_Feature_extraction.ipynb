{
 "cells": [
  {
   "cell_type": "markdown",
   "metadata": {},
   "source": [
    "# 01 Feature extraction"
   ]
  },
  {
   "cell_type": "code",
   "execution_count": 1,
   "metadata": {},
   "outputs": [
    {
     "name": "stderr",
     "output_type": "stream",
     "text": [
      "WARNING:absl:Some hub symbols are not available because TensorFlow version is less than 1.14\n"
     ]
    }
   ],
   "source": [
    "%matplotlib inline\n",
    "\n",
    "import numpy as np\n",
    "import os\n",
    "import matplotlib.pyplot as plt\n",
    "\n",
    "import tensorflow as tf\n",
    "import tensorflow_hub as hub\n",
    "from tensorflow.keras.preprocessing.image import ImageDataGenerator"
   ]
  },
  {
   "cell_type": "code",
   "execution_count": 2,
   "metadata": {},
   "outputs": [],
   "source": [
    "# Some global variables\n",
    "img_basepath = '/data/ml_course/04_Applied_Machine_Learning_2/11_Course_project/Swissroads_imgs/'\n",
    "features_basepath = '/data/ml_course/04_Applied_Machine_Learning_2/11_Course_project/'\n",
    "batch_size = 32\n",
    "npixels = 224"
   ]
  },
  {
   "cell_type": "code",
   "execution_count": 3,
   "metadata": {},
   "outputs": [],
   "source": [
    "# Create image generator\n",
    "train_generator = ImageDataGenerator(rescale=1/255)\n",
    "valid_generator = ImageDataGenerator(rescale=1/255)\n",
    "test_generator = ImageDataGenerator(rescale=1/255)"
   ]
  },
  {
   "cell_type": "code",
   "execution_count": 4,
   "metadata": {},
   "outputs": [
    {
     "name": "stdout",
     "output_type": "stream",
     "text": [
      "Found 280 images belonging to 6 classes.\n",
      "Found 139 images belonging to 6 classes.\n",
      "Found 50 images belonging to 6 classes.\n"
     ]
    }
   ],
   "source": [
    "# Train, validation and test sets\n",
    "trainset = train_generator.flow_from_directory(\n",
    "    os.path.join(img_basepath, 'train'), batch_size=batch_size, target_size=(npixels, npixels),\n",
    "    shuffle=True)\n",
    "validset = valid_generator.flow_from_directory(\n",
    "    os.path.join(img_basepath, 'valid'), batch_size=batch_size, target_size=(npixels, npixels),\n",
    "    shuffle=True)\n",
    "testset = test_generator.flow_from_directory(\n",
    "    os.path.join(img_basepath, 'test'), batch_size=batch_size, target_size=(npixels, npixels),\n",
    "    shuffle=False)"
   ]
  },
  {
   "cell_type": "code",
   "execution_count": 5,
   "metadata": {},
   "outputs": [
    {
     "name": "stdout",
     "output_type": "stream",
     "text": [
      "None\n",
      "None\n"
     ]
    },
    {
     "data": {
      "text/plain": [
       "280"
      ]
     },
     "execution_count": 5,
     "metadata": {},
     "output_type": "execute_result"
    }
   ],
   "source": [
    "print(trainset.index_array)\n",
    "print(testset.index_array)\n",
    "trainset.samples"
   ]
  },
  {
   "cell_type": "code",
   "execution_count": 6,
   "metadata": {},
   "outputs": [
    {
     "name": "stdout",
     "output_type": "stream",
     "text": [
      "INFO:tensorflow:Saver not created because there are no variables in the graph to restore\n"
     ]
    },
    {
     "name": "stderr",
     "output_type": "stream",
     "text": [
      "INFO:tensorflow:Saver not created because there are no variables in the graph to restore\n"
     ]
    }
   ],
   "source": [
    "# Create graph\n",
    "img_graph = tf.Graph()\n",
    "\n",
    "with img_graph.as_default():\n",
    "    # Download module\n",
    "    module_url = 'https://tfhub.dev/google/imagenet/mobilenet_v2_100_224/feature_vector/2'\n",
    "    feature_extractor = hub.Module(module_url)\n",
    "\n",
    "    # Create input placeholder\n",
    "    input_imgs = tf.placeholder(dtype=tf.float32, shape=[None, npixels, npixels, 3])\n",
    "\n",
    "    # A node with the features\n",
    "    imgs_features = feature_extractor(input_imgs)\n",
    "\n",
    "    # Collect initializers\n",
    "    init_op = tf.group([\n",
    "        tf.global_variables_initializer(), tf.tables_initializer()\n",
    "    ])\n",
    "\n",
    "img_graph.finalize()"
   ]
  },
  {
   "cell_type": "code",
   "execution_count": 7,
   "metadata": {},
   "outputs": [
    {
     "name": "stdout",
     "output_type": "stream",
     "text": [
      "train set\n",
      "    batch: 0\n",
      "    batch: 1\n",
      "    batch: 2\n",
      "    batch: 3\n",
      "    batch: 4\n",
      "    batch: 5\n",
      "    batch: 6\n",
      "    batch: 7\n",
      "    batch: 8\n",
      "(280, 1280)\n",
      "valid set\n",
      "    batch: 0\n",
      "    batch: 1\n",
      "    batch: 2\n",
      "    batch: 3\n",
      "    batch: 4\n",
      "(139, 1280)\n",
      "test set\n",
      "    batch: 0\n",
      "    batch: 1\n",
      "(50, 1280)\n"
     ]
    }
   ],
   "source": [
    "# Create a session\n",
    "sess = tf.Session(graph=img_graph)\n",
    "\n",
    "# Initialize it\n",
    "sess.run(init_op)\n",
    "\n",
    "# Get features\n",
    "print('train set')\n",
    "for batch, (batch_imgs, batch_labels) in enumerate(trainset):\n",
    "    print('    batch:', batch)\n",
    "    idx = trainset.index_array[batch*trainset.batch_size:(batch+1)*trainset.batch_size]\n",
    "    if batch == 0:\n",
    "        features_tr = sess.run(imgs_features, feed_dict={input_imgs: batch_imgs})\n",
    "        labels_tr = batch_labels        \n",
    "        fnames_tr = np.array(trainset.filenames)[idx]\n",
    "    else:\n",
    "        features_tr = np.append(\n",
    "            features_tr, sess.run(imgs_features, feed_dict={input_imgs: batch_imgs}), axis=0)\n",
    "        labels_tr = np.append(labels_tr, batch_labels, axis=0)\n",
    "        fnames_tr = np.append(fnames_tr, np.array(trainset.filenames)[idx])\n",
    "    if batch >= trainset.batch_index:\n",
    "        break\n",
    "print(features_tr.shape)\n",
    "np.savez(\n",
    "    os.path.join(features_basepath, 'Swissroads_train.npz'),\n",
    "    data=features_tr, labels=labels_tr, names=list(trainset.class_indices.keys()),\n",
    "    filenames=fnames_tr)\n",
    "\n",
    "print('valid set')        \n",
    "for batch, (batch_imgs, batch_labels) in enumerate(validset):    \n",
    "    print('    batch:', batch)\n",
    "    idx = validset.index_array[batch*validset.batch_size:(batch+1)*validset.batch_size]\n",
    "    if batch == 0:\n",
    "        features_va = sess.run(imgs_features, feed_dict={input_imgs: batch_imgs})\n",
    "        labels_va = batch_labels\n",
    "        fnames_va = np.array(validset.filenames)[idx]\n",
    "    else:\n",
    "        features_va = np.append(\n",
    "            features_va, sess.run(imgs_features, feed_dict={input_imgs: batch_imgs}), axis=0)\n",
    "        labels_va = np.append(labels_va, batch_labels, axis=0)\n",
    "        fnames_va = np.append(fnames_va, np.array(validset.filenames)[idx])\n",
    "    if batch >= validset.batch_index:\n",
    "        break\n",
    "print(features_va.shape)\n",
    "np.savez(\n",
    "    os.path.join(features_basepath, 'Swissroads_valid.npz'),\n",
    "    data=features_va, labels=labels_va, names=list(validset.class_indices.keys()),\n",
    "    filenames=fnames_va)\n",
    "    \n",
    "print('test set')        \n",
    "for batch, (batch_imgs, batch_labels) in enumerate(testset):\n",
    "    print('    batch:', batch)\n",
    "    idx = testset.index_array[batch*testset.batch_size:(batch+1)*testset.batch_size]\n",
    "    if batch == 0:\n",
    "        features_te = sess.run(imgs_features, feed_dict={input_imgs: batch_imgs})\n",
    "        labels_te = batch_labels\n",
    "        fnames_te = np.array(testset.filenames)[idx]\n",
    "    else:\n",
    "        features_te = np.append(\n",
    "            features_te, sess.run(imgs_features, feed_dict={input_imgs: batch_imgs}), axis=0)\n",
    "        labels_te = np.append(labels_te, batch_labels, axis=0)\n",
    "        fnames_te = np.append(fnames_te, np.array(testset.filenames)[idx])\n",
    "    if batch >= testset.batch_index:\n",
    "        break\n",
    "print(features_te.shape)\n",
    "np.savez(\n",
    "    os.path.join(features_basepath, 'Swissroads_test.npz'),\n",
    "    data=features_te, labels=labels_te, names=list(testset.class_indices.keys()),\n",
    "    filenames=fnames_te)"
   ]
  },
  {
   "cell_type": "code",
   "execution_count": 8,
   "metadata": {},
   "outputs": [
    {
     "data": {
      "image/png": "[encoded data removed]",
      "text/plain": [
       "<Figure size 432x288 with 1 Axes>"
      ]
     },
     "metadata": {
      "needs_background": "light"
     },
     "output_type": "display_data"
    }
   ],
   "source": [
    "# Plot feature example\n",
    "plt.hist(features_tr[0], bins=30)\n",
    "plt.title('Image high-level feature distribution')\n",
    "plt.show()"
   ]
  }
 ],
 "metadata": {
  "kernelspec": {
   "display_name": "Python 3",
   "language": "python",
   "name": "python3"
  },
  "language_info": {
   "codemirror_mode": {
    "name": "ipython",
    "version": 3
   },
   "file_extension": ".py",
   "mimetype": "text/x-python",
   "name": "python",
   "nbconvert_exporter": "python",
   "pygments_lexer": "ipython3",
   "version": "3.6.10"
  }
 },
 "nbformat": 4,
 "nbformat_minor": 4
}
