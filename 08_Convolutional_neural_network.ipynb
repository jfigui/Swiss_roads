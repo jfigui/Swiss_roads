{
 "cells": [
  {
   "cell_type": "markdown",
   "metadata": {},
   "source": [
    "# 08 Convolutional neural network"
   ]
  },
  {
   "cell_type": "code",
   "execution_count": 1,
   "metadata": {},
   "outputs": [
    {
     "name": "stderr",
     "output_type": "stream",
     "text": [
      "WARNING:absl:Some hub symbols are not available because TensorFlow version is less than 1.14\n"
     ]
    }
   ],
   "source": [
    "%matplotlib inline\n",
    "\n",
    "import numpy as np\n",
    "import pandas as pd\n",
    "import os\n",
    "import glob\n",
    "import matplotlib.pyplot as plt\n",
    "import PIL.Image as Image\n",
    "\n",
    "import tensorflow as tf\n",
    "import tensorflow_hub as hub"
   ]
  },
  {
   "cell_type": "code",
   "execution_count": 2,
   "metadata": {},
   "outputs": [
    {
     "name": "stdout",
     "output_type": "stream",
     "text": [
      "0.4.0\n",
      "1.12.0\n"
     ]
    }
   ],
   "source": [
    "print(hub.__version__)\n",
    "print(tf.__version__)"
   ]
  },
  {
   "cell_type": "code",
   "execution_count": 3,
   "metadata": {},
   "outputs": [],
   "source": [
    "# Some global variables\n",
    "img_basepath = '/data/ml_course/04_Applied_Machine_Learning_2/11_Course_project/Swissroads_imgs/'\n",
    "npixels = 224\n",
    "nfeatures = 1280\n",
    "nclasses = 6\n",
    "nbatch = 32\n",
    "nepochs = 50"
   ]
  },
  {
   "cell_type": "code",
   "execution_count": 4,
   "metadata": {},
   "outputs": [],
   "source": [
    "# Load data\n",
    "def load_data(img_basepath, set_type):\n",
    "    nimages = len(glob.glob(os.path.join(img_basepath+set_type+'/*', '*.png')))\n",
    "    names = ['bike', 'car', 'motorcycle', 'other', 'truck', 'van']\n",
    "    X = np.empty((nimages, npixels, npixels, 3), dtype=np.float32)\n",
    "    y = np.empty(nimages, dtype=np.float32)\n",
    "    img_count = 0\n",
    "    for i, name in enumerate(names):\n",
    "        img_file_list = glob.glob(os.path.join(img_basepath+set_type+'/'+name, '*.png'))\n",
    "        for img_file in img_file_list:\n",
    "            img = Image.open(img_file)\n",
    "            img = img.resize((npixels, npixels))\n",
    "            X[img_count, :, :, :] = np.array(img)/255\n",
    "            y[img_count] = i\n",
    "            img_count += 1\n",
    "    return X, y"
   ]
  },
  {
   "cell_type": "code",
   "execution_count": 5,
   "metadata": {},
   "outputs": [
    {
     "name": "stdout",
     "output_type": "stream",
     "text": [
      "(50, 224, 224, 3) (50,)\n",
      "(139, 224, 224, 3) (139,)\n",
      "(280, 224, 224, 3) (280,)\n"
     ]
    }
   ],
   "source": [
    "X_te, y_te = load_data(img_basepath, 'test')\n",
    "X_va, y_va = load_data(img_basepath, 'valid')\n",
    "X_tr, y_tr = load_data(img_basepath, 'train')\n",
    "print(X_te.shape, y_te.shape)\n",
    "print(X_va.shape, y_va.shape)\n",
    "print(X_tr.shape, y_tr.shape)"
   ]
  },
  {
   "cell_type": "code",
   "execution_count": 6,
   "metadata": {},
   "outputs": [
    {
     "name": "stdout",
     "output_type": "stream",
     "text": [
      "INFO:tensorflow:Saver not created because there are no variables in the graph to restore\n"
     ]
    },
    {
     "name": "stderr",
     "output_type": "stream",
     "text": [
      "INFO:tensorflow:Saver not created because there are no variables in the graph to restore\n"
     ]
    }
   ],
   "source": [
    "# Create graph\n",
    "img_graph = tf.Graph()\n",
    "\n",
    "with img_graph.as_default():\n",
    "    # Download module\n",
    "    module_url = 'https://tfhub.dev/google/imagenet/mobilenet_v2_100_224/feature_vector/2'\n",
    "    feature_extractor = hub.Module(module_url, trainable=True)\n",
    "\n",
    "    # Create input placeholder\n",
    "    X = tf.placeholder(dtype=tf.float32, shape=[None, npixels, npixels, 3])\n",
    "    \n",
    "    # Output placeholder\n",
    "    y = tf.placeholder(dtype=tf.int32, shape=[None])\n",
    "\n",
    "    # A node with the features\n",
    "    imgs_features = feature_extractor(X)\n",
    "    \n",
    "    # Output layer\n",
    "    logits = tf.layers.dense(\n",
    "        imgs_features, nclasses, # One output unit per category\n",
    "        activation=None, # No activation function\n",
    "        kernel_initializer=tf.variance_scaling_initializer(scale=1, seed=0),\n",
    "        bias_initializer=tf.zeros_initializer()\n",
    "    )\n",
    "    \n",
    "    # Mean cross-entropy\n",
    "    mean_ce = tf.reduce_mean(\n",
    "        tf.nn.sparse_softmax_cross_entropy_with_logits(\n",
    "            labels=y, logits=logits))\n",
    "    \n",
    "    # Adam optimizer\n",
    "    lr = tf.placeholder(dtype=tf.float32)\n",
    "    gd = tf.train.AdamOptimizer(learning_rate=lr)\n",
    "\n",
    "    # Minimize cross-entropy\n",
    "    train_op = gd.minimize(mean_ce)\n",
    "    \n",
    "    # Compute predictions and accuracy\n",
    "    predictions = tf.argmax(logits, axis=1, output_type=tf.int32)\n",
    "    is_correct = tf.equal(y, predictions)\n",
    "    accuracy = tf.reduce_mean(tf.cast(is_correct, dtype=tf.float32))"
   ]
  },
  {
   "cell_type": "code",
   "execution_count": 7,
   "metadata": {},
   "outputs": [
    {
     "name": "stdout",
     "output_type": "stream",
     "text": [
      "Epoch 1 - valid: 0.223 train: 0.164\n",
      "Epoch 2 - valid: 0.302 train: 0.239\n",
      "Epoch 3 - valid: 0.374 train: 0.300\n",
      "Epoch 4 - valid: 0.439 train: 0.379\n",
      "Epoch 5 - valid: 0.547 train: 0.493\n",
      "Epoch 6 - valid: 0.604 train: 0.579\n",
      "Epoch 7 - valid: 0.662 train: 0.632\n",
      "Epoch 8 - valid: 0.698 train: 0.664\n",
      "Epoch 9 - valid: 0.698 train: 0.668\n",
      "Epoch 10 - valid: 0.719 train: 0.682\n",
      "Epoch 11 - valid: 0.748 train: 0.736\n",
      "Epoch 12 - valid: 0.755 train: 0.754\n",
      "Epoch 13 - valid: 0.770 train: 0.782\n",
      "Epoch 14 - valid: 0.791 train: 0.793\n",
      "Epoch 15 - valid: 0.806 train: 0.804\n",
      "Epoch 16 - valid: 0.813 train: 0.825\n",
      "Epoch 17 - valid: 0.813 train: 0.836\n",
      "Epoch 18 - valid: 0.820 train: 0.846\n",
      "Epoch 19 - valid: 0.813 train: 0.868\n",
      "Epoch 20 - valid: 0.813 train: 0.871\n",
      "Epoch 21 - valid: 0.813 train: 0.886\n",
      "Epoch 22 - valid: 0.813 train: 0.893\n",
      "Epoch 23 - valid: 0.820 train: 0.900\n",
      "Epoch 24 - valid: 0.820 train: 0.900\n",
      "Epoch 25 - valid: 0.820 train: 0.907\n",
      "Epoch 26 - valid: 0.835 train: 0.907\n",
      "Epoch 27 - valid: 0.835 train: 0.918\n",
      "Epoch 28 - valid: 0.842 train: 0.929\n",
      "Epoch 29 - valid: 0.849 train: 0.932\n",
      "Epoch 30 - valid: 0.849 train: 0.932\n",
      "Epoch 31 - valid: 0.849 train: 0.939\n",
      "Epoch 32 - valid: 0.842 train: 0.950\n",
      "Epoch 33 - valid: 0.849 train: 0.954\n",
      "Epoch 34 - valid: 0.856 train: 0.957\n",
      "Epoch 35 - valid: 0.856 train: 0.964\n",
      "Epoch 36 - valid: 0.856 train: 0.964\n",
      "Epoch 37 - valid: 0.856 train: 0.964\n",
      "Epoch 38 - valid: 0.856 train: 0.964\n",
      "Epoch 39 - valid: 0.863 train: 0.964\n",
      "Epoch 40 - valid: 0.863 train: 0.964\n",
      "Epoch 41 - valid: 0.871 train: 0.964\n",
      "Epoch 42 - valid: 0.878 train: 0.971\n",
      "Epoch 43 - valid: 0.878 train: 0.979\n",
      "Epoch 44 - valid: 0.878 train: 0.979\n",
      "Epoch 45 - valid: 0.878 train: 0.989\n",
      "Epoch 46 - valid: 0.878 train: 0.989\n",
      "Epoch 47 - valid: 0.878 train: 0.989\n",
      "Epoch 48 - valid: 0.878 train: 0.996\n",
      "Epoch 49 - valid: 0.878 train: 0.996\n",
      "Epoch 50 - valid: 0.878 train: 0.996\n",
      "Test accuracy: 0.900\n"
     ]
    }
   ],
   "source": [
    "# Validation accuracy\n",
    "valid_acc_values = []\n",
    "train_acc_values = []\n",
    "with tf.Session(graph=img_graph) as sess:\n",
    "    # Initialize variables\n",
    "    sess.run(tf.global_variables_initializer())\n",
    "    \n",
    "    # Train several epochs\n",
    "    for epoch in range(nepochs):\n",
    "        # training with all data at once\n",
    "        # Run training and evaluate accuracy\n",
    "        _, acc_value = sess.run([train_op, accuracy], feed_dict={\n",
    "            X: X_tr,\n",
    "            y: y_tr,\n",
    "            lr: 0.00001 # Learning rate\n",
    "        })\n",
    "        train_acc_values.append(acc_value)\n",
    "        \n",
    "        # Evaluate validation accuracy\n",
    "        valid_acc = sess.run(accuracy, feed_dict={\n",
    "            X: X_va,\n",
    "            y: y_va,\n",
    "        })\n",
    "        valid_acc_values.append(valid_acc)\n",
    "        \n",
    "        # Print progress\n",
    "        print('Epoch {} - valid: {:.3f} train: {:.3f}'.format(\n",
    "            epoch+1, valid_acc, acc_value))\n",
    "    \n",
    "    # Evaluate test accuracy\n",
    "    test_acc = sess.run(accuracy, feed_dict={\n",
    "        X: X_te,\n",
    "        y: y_te\n",
    "    })\n",
    "    print('Test accuracy: {:.3f}'.format(test_acc))"
   ]
  },
  {
   "cell_type": "code",
   "execution_count": 8,
   "metadata": {},
   "outputs": [
    {
     "data": {
      "image/png": "[encoded data removed]",
      "text/plain": [
       "<Figure size 432x288 with 1 Axes>"
      ]
     },
     "metadata": {
      "needs_background": "light"
     },
     "output_type": "display_data"
    }
   ],
   "source": [
    "# Plot accuracy values\n",
    "plt.plot(train_acc_values, label='train acc')\n",
    "plt.plot(valid_acc_values, label='val acc')\n",
    "plt.title('Validation accuracy: {:.3f} (mean last 3)'.format(\n",
    "    np.mean(valid_acc_values[-3:]) # last three values\n",
    "))\n",
    "plt.legend()\n",
    "plt.xlabel('epoch')\n",
    "plt.ylabel('accuracy')\n",
    "plt.show()"
   ]
  },
  {
   "cell_type": "markdown",
   "metadata": {},
   "source": [
    "## Store results"
   ]
  },
  {
   "cell_type": "code",
   "execution_count": 9,
   "metadata": {},
   "outputs": [],
   "source": [
    "df_acc = pd.DataFrame(\n",
    "    {'model': ['cnn'], 'test_accuracy': [100.*test_acc]})\n",
    "df_acc.to_csv('acc_cnn.csv', index=False)"
   ]
  },
  {
   "cell_type": "markdown",
   "metadata": {},
   "source": [
    "A reasonably good accuracy can be reached with a very small learning rate. However, there is not enough data to reach accuracies well above 90%"
   ]
  },
  {
   "cell_type": "code",
   "execution_count": null,
   "metadata": {},
   "outputs": [],
   "source": []
  }
 ],
 "metadata": {
  "kernelspec": {
   "display_name": "Python 3",
   "language": "python",
   "name": "python3"
  },
  "language_info": {
   "codemirror_mode": {
    "name": "ipython",
    "version": 3
   },
   "file_extension": ".py",
   "mimetype": "text/x-python",
   "name": "python",
   "nbconvert_exporter": "python",
   "pygments_lexer": "ipython3",
   "version": "3.6.10"
  }
 },
 "nbformat": 4,
 "nbformat_minor": 4
}
