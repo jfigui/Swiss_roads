{
 "cells": [
  {
   "cell_type": "markdown",
   "metadata": {},
   "source": [
    "# 06 Nonlinear classifiers"
   ]
  },
  {
   "cell_type": "code",
   "execution_count": 1,
   "metadata": {},
   "outputs": [],
   "source": [
    "%matplotlib inline\n",
    "\n",
    "import os\n",
    "import pandas as pd\n",
    "import numpy as np\n",
    "import matplotlib.pyplot as plt\n",
    "\n",
    "from sklearn.pipeline import Pipeline\n",
    "from sklearn.model_selection import GridSearchCV\n",
    "from sklearn.model_selection import PredefinedSplit\n",
    "from sklearn.ensemble import RandomForestClassifier\n",
    "from sklearn.svm import LinearSVC\n",
    "from sklearn.svm import SVC"
   ]
  },
  {
   "cell_type": "code",
   "execution_count": 2,
   "metadata": {},
   "outputs": [],
   "source": [
    "# Some global variables\n",
    "features_basepath = '/data/ml_course/04_Applied_Machine_Learning_2/11_Course_project/'"
   ]
  },
  {
   "cell_type": "code",
   "execution_count": 3,
   "metadata": {},
   "outputs": [],
   "source": [
    "# Load data\n",
    "def load_data(features_basepath, features_file, one_hot_encoding=False):\n",
    "    with np.load(os.path.join(features_basepath, features_file), allow_pickle=False) as npz_file:\n",
    "        data = dict(npz_file.items())\n",
    "        \n",
    "    X = data['data']\n",
    "    if one_hot_encoding:\n",
    "        y = data['labels']\n",
    "    else:\n",
    "        y = np.where(data['labels'] == 1)[1]\n",
    "    names = data['names']\n",
    "    filenames = data['filenames']\n",
    "    \n",
    "    return X, y, names, filenames "
   ]
  },
  {
   "cell_type": "code",
   "execution_count": 4,
   "metadata": {},
   "outputs": [
    {
     "name": "stdout",
     "output_type": "stream",
     "text": [
      "(280, 1280) (280,)\n",
      "(139, 1280) (139,)\n",
      "(50, 1280) (50,)\n"
     ]
    }
   ],
   "source": [
    "X_tr, y_tr, names, fn_tr = load_data(features_basepath, 'Swissroads_train.npz', one_hot_encoding=False)\n",
    "X_va, y_va, _, fn_va = load_data(features_basepath, 'Swissroads_valid.npz', one_hot_encoding=False)\n",
    "X_te, y_te, _, fn_te = load_data(features_basepath, 'Swissroads_test.npz', one_hot_encoding=False)\n",
    "print(X_tr.shape, y_tr.shape)\n",
    "print(X_va.shape, y_va.shape)\n",
    "print(X_te.shape, y_te.shape)"
   ]
  },
  {
   "cell_type": "code",
   "execution_count": 5,
   "metadata": {},
   "outputs": [
    {
     "name": "stdout",
     "output_type": "stream",
     "text": [
      "(419, 1280) (419,)\n"
     ]
    }
   ],
   "source": [
    "X = np.append(X_tr, X_va, axis=0)\n",
    "y = np.append(y_tr, y_va, axis=0)\n",
    "print(X.shape, y.shape)"
   ]
  },
  {
   "cell_type": "code",
   "execution_count": 6,
   "metadata": {},
   "outputs": [
    {
     "data": {
      "text/plain": [
       "5"
      ]
     },
     "execution_count": 6,
     "metadata": {},
     "output_type": "execute_result"
    }
   ],
   "source": [
    "# Create 5 test folds\n",
    "n_folds = 5\n",
    "n_tr = y_tr.shape[0]\n",
    "n_va = int(y_va.shape[0]/n_folds)\n",
    "test_fold = np.zeros(y.shape[0])\n",
    "test_fold[:n_tr] = -1\n",
    "\n",
    "test_fold[n_tr:n_tr+n_va] = 0\n",
    "test_fold[n_tr+n_va:n_tr+2*n_va] = 1\n",
    "test_fold[n_tr+2*n_va:n_tr+3*n_va] = 2\n",
    "test_fold[n_tr+3*n_va:n_tr+4*n_va] = 3\n",
    "test_fold[n_tr+4*n_va:] = 4\n",
    "\n",
    "# create five folds with the validation data\n",
    "ps = PredefinedSplit(test_fold)\n",
    "ps.get_n_splits()"
   ]
  },
  {
   "cell_type": "markdown",
   "metadata": {},
   "source": [
    "## Random Forest"
   ]
  },
  {
   "cell_type": "code",
   "execution_count": 7,
   "metadata": {},
   "outputs": [
    {
     "name": "stdout",
     "output_type": "stream",
     "text": [
      "Fitting 5 folds for each of 118 candidates, totalling 590 fits\n"
     ]
    },
    {
     "name": "stderr",
     "output_type": "stream",
     "text": [
      "[Parallel(n_jobs=-1)]: Using backend LokyBackend with 4 concurrent workers.\n",
      "[Parallel(n_jobs=-1)]: Done 167 tasks      | elapsed:    4.1s\n",
      "[Parallel(n_jobs=-1)]: Done 545 tasks      | elapsed:   39.7s\n",
      "[Parallel(n_jobs=-1)]: Done 590 out of 590 | elapsed:  1.2min finished\n",
      "/opt/anaconda3/envs/exts-ml/lib/python3.6/site-packages/sklearn/model_selection/_search.py:841: DeprecationWarning: The default of the `iid` parameter will change from True to False in version 0.22 and will be removed in 0.24. This will change numeric results when test-set sizes are unequal.\n",
      "  DeprecationWarning)\n"
     ]
    },
    {
     "data": {
      "text/plain": [
       "GridSearchCV(cv=PredefinedSplit(test_fold=array([-1, -1, ...,  4,  4])),\n",
       "       error_score='raise-deprecating',\n",
       "       estimator=Pipeline(memory=None,\n",
       "     steps=[('scaler', None), ('RF', RandomForestClassifier(bootstrap=True, class_weight=None, criterion='gini',\n",
       "            max_depth=None, max_features='auto', max_leaf_nodes=None,\n",
       "            min_impurity_decrease=0.0, min_impurity_split=None,\n",
       "            min_samples_leaf=1, min_samples_split=2,\n",
       "            min_weight_fraction_leaf=0.0, n_estimators='warn', n_jobs=None,\n",
       "            oob_score=False, random_state=0, verbose=0, warm_start=False))]),\n",
       "       fit_params=None, iid='warn', n_jobs=-1,\n",
       "       param_grid={'RF__n_estimators': array([   1,    2, ...,  950, 1000])},\n",
       "       pre_dispatch='2*n_jobs', refit=True, return_train_score=True,\n",
       "       scoring=None, verbose=True)"
      ]
     },
     "execution_count": 7,
     "metadata": {},
     "output_type": "execute_result"
    }
   ],
   "source": [
    "# Create pipeline\n",
    "pipe_RF = Pipeline([\n",
    "    ('scaler', None),\n",
    "    ('RF', RandomForestClassifier(random_state=0, max_depth=None))\n",
    "])\n",
    "\n",
    "# Create cross-validation object\n",
    "n_estimators = np.r_[np.arange(1, 101), np.arange(150, 1001, 50)]\n",
    "grid_RF = {'RF__n_estimators': n_estimators}\n",
    "\n",
    "grid_RF_cv = GridSearchCV(pipe_RF, grid_RF, cv=ps, return_train_score=True, verbose=True, n_jobs=-1)\n",
    "\n",
    "# Fit estimator\n",
    "grid_RF_cv.fit(X, y)"
   ]
  },
  {
   "cell_type": "code",
   "execution_count": 8,
   "metadata": {},
   "outputs": [],
   "source": [
    "# Collect results in a DataFrame\n",
    "RF_results = pd.DataFrame({\n",
    "    'trees': grid_RF_cv.cv_results_['param_RF__n_estimators'],\n",
    "    'mean_tr': grid_RF_cv.cv_results_['mean_train_score'],\n",
    "    'mean_te': grid_RF_cv.cv_results_['mean_test_score'],\n",
    "    'std_te': grid_RF_cv.cv_results_['std_test_score']\n",
    "})"
   ]
  },
  {
   "cell_type": "code",
   "execution_count": 9,
   "metadata": {},
   "outputs": [
    {
     "data": {
      "image/png": "[encoded data removed]",
      "text/plain": [
       "<Figure size 432x288 with 1 Axes>"
      ]
     },
     "metadata": {
      "needs_background": "light"
     },
     "output_type": "display_data"
    }
   ],
   "source": [
    "# Plot test curve\n",
    "RF_results.plot(x='trees', y='mean_te')\n",
    "plt.show()"
   ]
  },
  {
   "cell_type": "code",
   "execution_count": 10,
   "metadata": {},
   "outputs": [
    {
     "data": {
      "text/html": [
       "<div>\n",
       "<style scoped>\n",
       "    .dataframe tbody tr th:only-of-type {\n",
       "        vertical-align: middle;\n",
       "    }\n",
       "\n",
       "    .dataframe tbody tr th {\n",
       "        vertical-align: top;\n",
       "    }\n",
       "\n",
       "    .dataframe thead th {\n",
       "        text-align: right;\n",
       "    }\n",
       "</style>\n",
       "<table border=\"1\" class=\"dataframe\">\n",
       "  <thead>\n",
       "    <tr style=\"text-align: right;\">\n",
       "      <th></th>\n",
       "      <th>trees</th>\n",
       "      <th>mean_tr</th>\n",
       "      <th>mean_te</th>\n",
       "      <th>std_te</th>\n",
       "    </tr>\n",
       "  </thead>\n",
       "  <tbody>\n",
       "    <tr>\n",
       "      <th>27</th>\n",
       "      <td>28</td>\n",
       "      <td>1.0</td>\n",
       "      <td>0.920863</td>\n",
       "      <td>0.043127</td>\n",
       "    </tr>\n",
       "    <tr>\n",
       "      <th>48</th>\n",
       "      <td>49</td>\n",
       "      <td>1.0</td>\n",
       "      <td>0.920863</td>\n",
       "      <td>0.036428</td>\n",
       "    </tr>\n",
       "    <tr>\n",
       "      <th>25</th>\n",
       "      <td>26</td>\n",
       "      <td>1.0</td>\n",
       "      <td>0.920863</td>\n",
       "      <td>0.028180</td>\n",
       "    </tr>\n",
       "    <tr>\n",
       "      <th>24</th>\n",
       "      <td>25</td>\n",
       "      <td>1.0</td>\n",
       "      <td>0.920863</td>\n",
       "      <td>0.028180</td>\n",
       "    </tr>\n",
       "    <tr>\n",
       "      <th>23</th>\n",
       "      <td>24</td>\n",
       "      <td>1.0</td>\n",
       "      <td>0.920863</td>\n",
       "      <td>0.028180</td>\n",
       "    </tr>\n",
       "    <tr>\n",
       "      <th>28</th>\n",
       "      <td>29</td>\n",
       "      <td>1.0</td>\n",
       "      <td>0.920863</td>\n",
       "      <td>0.043127</td>\n",
       "    </tr>\n",
       "    <tr>\n",
       "      <th>30</th>\n",
       "      <td>31</td>\n",
       "      <td>1.0</td>\n",
       "      <td>0.920863</td>\n",
       "      <td>0.043127</td>\n",
       "    </tr>\n",
       "    <tr>\n",
       "      <th>55</th>\n",
       "      <td>56</td>\n",
       "      <td>1.0</td>\n",
       "      <td>0.920863</td>\n",
       "      <td>0.058810</td>\n",
       "    </tr>\n",
       "    <tr>\n",
       "      <th>47</th>\n",
       "      <td>48</td>\n",
       "      <td>1.0</td>\n",
       "      <td>0.920863</td>\n",
       "      <td>0.036428</td>\n",
       "    </tr>\n",
       "    <tr>\n",
       "      <th>26</th>\n",
       "      <td>27</td>\n",
       "      <td>1.0</td>\n",
       "      <td>0.920863</td>\n",
       "      <td>0.028180</td>\n",
       "    </tr>\n",
       "  </tbody>\n",
       "</table>\n",
       "</div>"
      ],
      "text/plain": [
       "   trees  mean_tr   mean_te    std_te\n",
       "27    28      1.0  0.920863  0.043127\n",
       "48    49      1.0  0.920863  0.036428\n",
       "25    26      1.0  0.920863  0.028180\n",
       "24    25      1.0  0.920863  0.028180\n",
       "23    24      1.0  0.920863  0.028180\n",
       "28    29      1.0  0.920863  0.043127\n",
       "30    31      1.0  0.920863  0.043127\n",
       "55    56      1.0  0.920863  0.058810\n",
       "47    48      1.0  0.920863  0.036428\n",
       "26    27      1.0  0.920863  0.028180"
      ]
     },
     "execution_count": 10,
     "metadata": {},
     "output_type": "execute_result"
    }
   ],
   "source": [
    "# Ten best combinations according to the mean test score\n",
    "RF_results.sort_values(by='mean_te', ascending=False).head(10)"
   ]
  },
  {
   "cell_type": "code",
   "execution_count": 11,
   "metadata": {},
   "outputs": [
    {
     "name": "stdout",
     "output_type": "stream",
     "text": [
      "Test accuracy: 92.00%\n"
     ]
    }
   ],
   "source": [
    "# Report test score\n",
    "acc_RF = 100*grid_RF_cv.score(X_te, y_te)\n",
    "print('Test accuracy: {:.2f}%'.format(acc_RF))"
   ]
  },
  {
   "cell_type": "markdown",
   "metadata": {},
   "source": [
    "## linear SVM"
   ]
  },
  {
   "cell_type": "code",
   "execution_count": 12,
   "metadata": {},
   "outputs": [
    {
     "name": "stdout",
     "output_type": "stream",
     "text": [
      "Fitting 5 folds for each of 20 candidates, totalling 100 fits\n"
     ]
    },
    {
     "name": "stderr",
     "output_type": "stream",
     "text": [
      "[Parallel(n_jobs=-1)]: Using backend LokyBackend with 4 concurrent workers.\n",
      "[Parallel(n_jobs=-1)]: Done 100 out of 100 | elapsed:    2.3s finished\n",
      "/opt/anaconda3/envs/exts-ml/lib/python3.6/site-packages/sklearn/model_selection/_search.py:841: DeprecationWarning: The default of the `iid` parameter will change from True to False in version 0.22 and will be removed in 0.24. This will change numeric results when test-set sizes are unequal.\n",
      "  DeprecationWarning)\n"
     ]
    },
    {
     "data": {
      "text/plain": [
       "GridSearchCV(cv=PredefinedSplit(test_fold=array([-1, -1, ...,  4,  4])),\n",
       "       error_score='raise-deprecating',\n",
       "       estimator=Pipeline(memory=None,\n",
       "     steps=[('scaler', None), ('lSVM', LinearSVC(C=1.0, class_weight=None, dual=True, fit_intercept=True,\n",
       "     intercept_scaling=1, loss='squared_hinge', max_iter=1000,\n",
       "     multi_class='ovr', penalty='l2', random_state=None, tol=0.0001,\n",
       "     verbose=0))]),\n",
       "       fit_params=None, iid='warn', n_jobs=-1,\n",
       "       param_grid={'lSVM__C': array([1.00000e-04, 2.63665e-04, 6.95193e-04, 1.83298e-03, 4.83293e-03,\n",
       "       1.27427e-02, 3.35982e-02, 8.85867e-02, 2.33572e-01, 6.15848e-01,\n",
       "       1.62378e+00, 4.28133e+00, 1.12884e+01, 2.97635e+01, 7.84760e+01,\n",
       "       2.06914e+02, 5.45559e+02, 1.43845e+03, 3.79269e+03, 1.00000e+04])},\n",
       "       pre_dispatch='2*n_jobs', refit=True, return_train_score=True,\n",
       "       scoring=None, verbose=True)"
      ]
     },
     "execution_count": 12,
     "metadata": {},
     "output_type": "execute_result"
    }
   ],
   "source": [
    "# Create pipeline\n",
    "pipe_lSVM = Pipeline([\n",
    "    ('scaler', None),\n",
    "    ('lSVM', LinearSVC())\n",
    "])\n",
    "\n",
    "# Create cross-validation object\n",
    "Cs = np.logspace(-4, 4, num=20)\n",
    "grid_lSVM = {'lSVM__C': Cs}\n",
    "\n",
    "grid_lSVM_cv = GridSearchCV(pipe_lSVM, grid_lSVM, cv=ps, return_train_score=True, verbose=True, n_jobs=-1)\n",
    "\n",
    "# Fit estimator\n",
    "grid_lSVM_cv.fit(X, y)"
   ]
  },
  {
   "cell_type": "code",
   "execution_count": 13,
   "metadata": {},
   "outputs": [],
   "source": [
    "# Collect results in a DataFrame\n",
    "lSVM_results = pd.DataFrame({\n",
    "    'C': grid_lSVM_cv.cv_results_['param_lSVM__C'],\n",
    "    'mean_tr': grid_lSVM_cv.cv_results_['mean_train_score'],\n",
    "    'mean_te': grid_lSVM_cv.cv_results_['mean_test_score'],\n",
    "    'std_te': grid_lSVM_cv.cv_results_['std_test_score']\n",
    "})"
   ]
  },
  {
   "cell_type": "code",
   "execution_count": 14,
   "metadata": {},
   "outputs": [
    {
     "data": {
      "image/png": "[encoded data removed]",
      "text/plain": [
       "<Figure size 432x288 with 1 Axes>"
      ]
     },
     "metadata": {
      "needs_background": "light"
     },
     "output_type": "display_data"
    }
   ],
   "source": [
    "# Plot test curve\n",
    "lSVM_results.plot(x='C', y='mean_te', logx=True)\n",
    "plt.show()"
   ]
  },
  {
   "cell_type": "code",
   "execution_count": 15,
   "metadata": {},
   "outputs": [
    {
     "data": {
      "text/html": [
       "<div>\n",
       "<style scoped>\n",
       "    .dataframe tbody tr th:only-of-type {\n",
       "        vertical-align: middle;\n",
       "    }\n",
       "\n",
       "    .dataframe tbody tr th {\n",
       "        vertical-align: top;\n",
       "    }\n",
       "\n",
       "    .dataframe thead th {\n",
       "        text-align: right;\n",
       "    }\n",
       "</style>\n",
       "<table border=\"1\" class=\"dataframe\">\n",
       "  <thead>\n",
       "    <tr style=\"text-align: right;\">\n",
       "      <th></th>\n",
       "      <th>C</th>\n",
       "      <th>mean_tr</th>\n",
       "      <th>mean_te</th>\n",
       "      <th>std_te</th>\n",
       "    </tr>\n",
       "  </thead>\n",
       "  <tbody>\n",
       "    <tr>\n",
       "      <th>1</th>\n",
       "      <td>0.000263665</td>\n",
       "      <td>0.940180</td>\n",
       "      <td>0.913669</td>\n",
       "      <td>0.058554</td>\n",
       "    </tr>\n",
       "    <tr>\n",
       "      <th>2</th>\n",
       "      <td>0.000695193</td>\n",
       "      <td>0.975463</td>\n",
       "      <td>0.906475</td>\n",
       "      <td>0.060323</td>\n",
       "    </tr>\n",
       "    <tr>\n",
       "      <th>3</th>\n",
       "      <td>0.00183298</td>\n",
       "      <td>0.992847</td>\n",
       "      <td>0.906475</td>\n",
       "      <td>0.060323</td>\n",
       "    </tr>\n",
       "    <tr>\n",
       "      <th>0</th>\n",
       "      <td>0.0001</td>\n",
       "      <td>0.908505</td>\n",
       "      <td>0.899281</td>\n",
       "      <td>0.064082</td>\n",
       "    </tr>\n",
       "    <tr>\n",
       "      <th>4</th>\n",
       "      <td>0.00483293</td>\n",
       "      <td>0.996934</td>\n",
       "      <td>0.899281</td>\n",
       "      <td>0.064082</td>\n",
       "    </tr>\n",
       "    <tr>\n",
       "      <th>6</th>\n",
       "      <td>0.0335982</td>\n",
       "      <td>1.000000</td>\n",
       "      <td>0.899281</td>\n",
       "      <td>0.053562</td>\n",
       "    </tr>\n",
       "    <tr>\n",
       "      <th>13</th>\n",
       "      <td>29.7635</td>\n",
       "      <td>1.000000</td>\n",
       "      <td>0.892086</td>\n",
       "      <td>0.061367</td>\n",
       "    </tr>\n",
       "    <tr>\n",
       "      <th>18</th>\n",
       "      <td>3792.69</td>\n",
       "      <td>1.000000</td>\n",
       "      <td>0.892086</td>\n",
       "      <td>0.061367</td>\n",
       "    </tr>\n",
       "    <tr>\n",
       "      <th>17</th>\n",
       "      <td>1438.45</td>\n",
       "      <td>1.000000</td>\n",
       "      <td>0.892086</td>\n",
       "      <td>0.061367</td>\n",
       "    </tr>\n",
       "    <tr>\n",
       "      <th>16</th>\n",
       "      <td>545.559</td>\n",
       "      <td>1.000000</td>\n",
       "      <td>0.892086</td>\n",
       "      <td>0.061367</td>\n",
       "    </tr>\n",
       "  </tbody>\n",
       "</table>\n",
       "</div>"
      ],
      "text/plain": [
       "              C   mean_tr   mean_te    std_te\n",
       "1   0.000263665  0.940180  0.913669  0.058554\n",
       "2   0.000695193  0.975463  0.906475  0.060323\n",
       "3    0.00183298  0.992847  0.906475  0.060323\n",
       "0        0.0001  0.908505  0.899281  0.064082\n",
       "4    0.00483293  0.996934  0.899281  0.064082\n",
       "6     0.0335982  1.000000  0.899281  0.053562\n",
       "13      29.7635  1.000000  0.892086  0.061367\n",
       "18      3792.69  1.000000  0.892086  0.061367\n",
       "17      1438.45  1.000000  0.892086  0.061367\n",
       "16      545.559  1.000000  0.892086  0.061367"
      ]
     },
     "execution_count": 15,
     "metadata": {},
     "output_type": "execute_result"
    }
   ],
   "source": [
    "# Ten best combinations according to the mean test score\n",
    "lSVM_results.sort_values(by='mean_te', ascending=False).head(10)"
   ]
  },
  {
   "cell_type": "code",
   "execution_count": 16,
   "metadata": {},
   "outputs": [
    {
     "name": "stdout",
     "output_type": "stream",
     "text": [
      "Test accuracy: 96.00%\n"
     ]
    }
   ],
   "source": [
    "# Report test score\n",
    "acc_lSVM = 100*grid_lSVM_cv.score(X_te, y_te)\n",
    "print('Test accuracy: {:.2f}%'.format(acc_lSVM))"
   ]
  },
  {
   "cell_type": "markdown",
   "metadata": {},
   "source": [
    "## SVM with RBF kernel"
   ]
  },
  {
   "cell_type": "code",
   "execution_count": 17,
   "metadata": {},
   "outputs": [
    {
     "name": "stdout",
     "output_type": "stream",
     "text": [
      "Fitting 5 folds for each of 400 candidates, totalling 2000 fits\n"
     ]
    },
    {
     "name": "stderr",
     "output_type": "stream",
     "text": [
      "[Parallel(n_jobs=-1)]: Using backend LokyBackend with 4 concurrent workers.\n",
      "[Parallel(n_jobs=-1)]: Done  42 tasks      | elapsed:    7.1s\n",
      "[Parallel(n_jobs=-1)]: Done 192 tasks      | elapsed:   30.9s\n",
      "[Parallel(n_jobs=-1)]: Done 442 tasks      | elapsed:  1.2min\n",
      "[Parallel(n_jobs=-1)]: Done 792 tasks      | elapsed:  2.2min\n",
      "[Parallel(n_jobs=-1)]: Done 1242 tasks      | elapsed:  3.5min\n",
      "[Parallel(n_jobs=-1)]: Done 1792 tasks      | elapsed:  5.0min\n",
      "[Parallel(n_jobs=-1)]: Done 2000 out of 2000 | elapsed:  5.5min finished\n",
      "/opt/anaconda3/envs/exts-ml/lib/python3.6/site-packages/sklearn/model_selection/_search.py:841: DeprecationWarning: The default of the `iid` parameter will change from True to False in version 0.22 and will be removed in 0.24. This will change numeric results when test-set sizes are unequal.\n",
      "  DeprecationWarning)\n"
     ]
    },
    {
     "data": {
      "text/plain": [
       "GridSearchCV(cv=PredefinedSplit(test_fold=array([-1, -1, ...,  4,  4])),\n",
       "       error_score='raise-deprecating',\n",
       "       estimator=Pipeline(memory=None,\n",
       "     steps=[('scaler', None), ('SVM', SVC(C=1.0, cache_size=200, class_weight=None, coef0=0.0,\n",
       "  decision_function_shape='ovr', degree=3, gamma='auto_deprecated',\n",
       "  kernel='rbf', max_iter=-1, probability=False, random_state=None,\n",
       "  shrinking=True, tol=0.001, verbose=False))]),\n",
       "       fit_params=None, iid='warn', n_jobs=-1,\n",
       "       param_grid={'SVM__C': array([1.00000e-04, 2.63665e-04, 6.95193e-04, 1.83298e-03, 4.83293e-03,\n",
       "       1.27427e-02, 3.35982e-02, 8.85867e-02, 2.33572e-01, 6.15848e-01,\n",
       "       1.62378e+00, 4.28133e+00, 1.12884e+01, 2.97635e+01, 7.84760e+01,\n",
       "       2.06914e+02, 5.45559e+02, 1.43845e+03, 3.79269e+03, 1.0... 2.97635e+01, 7.84760e+01,\n",
       "       2.06914e+02, 5.45559e+02, 1.43845e+03, 3.79269e+03, 1.00000e+04])},\n",
       "       pre_dispatch='2*n_jobs', refit=True, return_train_score=True,\n",
       "       scoring=None, verbose=True)"
      ]
     },
     "execution_count": 17,
     "metadata": {},
     "output_type": "execute_result"
    }
   ],
   "source": [
    "# Create pipeline\n",
    "pipe_SVM = Pipeline([\n",
    "    ('scaler', None),\n",
    "    ('SVM', SVC(kernel='rbf'))\n",
    "])\n",
    "\n",
    "# Create cross-validation object\n",
    "Cs = np.logspace(-4, 4, num=20)\n",
    "gammas = np.logspace(-4, 4, num=20)\n",
    "grid_SVM = {\n",
    "    'SVM__C': Cs,\n",
    "    'SVM__gamma': gammas}\n",
    "\n",
    "grid_SVM_cv = GridSearchCV(pipe_SVM, grid_SVM, cv=ps, return_train_score=True, verbose=True, n_jobs=-1)\n",
    "\n",
    "# Fit estimator\n",
    "grid_SVM_cv.fit(X, y)"
   ]
  },
  {
   "cell_type": "code",
   "execution_count": 18,
   "metadata": {},
   "outputs": [
    {
     "data": {
      "text/html": [
       "<div>\n",
       "<style scoped>\n",
       "    .dataframe tbody tr th:only-of-type {\n",
       "        vertical-align: middle;\n",
       "    }\n",
       "\n",
       "    .dataframe tbody tr th {\n",
       "        vertical-align: top;\n",
       "    }\n",
       "\n",
       "    .dataframe thead th {\n",
       "        text-align: right;\n",
       "    }\n",
       "</style>\n",
       "<table border=\"1\" class=\"dataframe\">\n",
       "  <thead>\n",
       "    <tr style=\"text-align: right;\">\n",
       "      <th></th>\n",
       "      <th>C</th>\n",
       "      <th>gamma</th>\n",
       "      <th>mean_tr</th>\n",
       "      <th>mean_te</th>\n",
       "      <th>std_te</th>\n",
       "    </tr>\n",
       "  </thead>\n",
       "  <tbody>\n",
       "    <tr>\n",
       "      <th>220</th>\n",
       "      <td>4.28133</td>\n",
       "      <td>0.0001</td>\n",
       "      <td>0.946313</td>\n",
       "      <td>0.928058</td>\n",
       "      <td>0.041445</td>\n",
       "    </tr>\n",
       "    <tr>\n",
       "      <th>201</th>\n",
       "      <td>1.62378</td>\n",
       "      <td>0.000263665</td>\n",
       "      <td>0.945287</td>\n",
       "      <td>0.928058</td>\n",
       "      <td>0.041445</td>\n",
       "    </tr>\n",
       "    <tr>\n",
       "      <th>202</th>\n",
       "      <td>1.62378</td>\n",
       "      <td>0.000695193</td>\n",
       "      <td>0.979544</td>\n",
       "      <td>0.920863</td>\n",
       "      <td>0.048917</td>\n",
       "    </tr>\n",
       "    <tr>\n",
       "      <th>221</th>\n",
       "      <td>4.28133</td>\n",
       "      <td>0.000263665</td>\n",
       "      <td>0.981086</td>\n",
       "      <td>0.913669</td>\n",
       "      <td>0.050346</td>\n",
       "    </tr>\n",
       "    <tr>\n",
       "      <th>240</th>\n",
       "      <td>11.2884</td>\n",
       "      <td>0.0001</td>\n",
       "      <td>0.981596</td>\n",
       "      <td>0.913669</td>\n",
       "      <td>0.050346</td>\n",
       "    </tr>\n",
       "    <tr>\n",
       "      <th>182</th>\n",
       "      <td>0.615848</td>\n",
       "      <td>0.000695193</td>\n",
       "      <td>0.944283</td>\n",
       "      <td>0.913669</td>\n",
       "      <td>0.050346</td>\n",
       "    </tr>\n",
       "    <tr>\n",
       "      <th>301</th>\n",
       "      <td>206.914</td>\n",
       "      <td>0.000263665</td>\n",
       "      <td>1.000000</td>\n",
       "      <td>0.906475</td>\n",
       "      <td>0.038823</td>\n",
       "    </tr>\n",
       "    <tr>\n",
       "      <th>381</th>\n",
       "      <td>10000</td>\n",
       "      <td>0.000263665</td>\n",
       "      <td>1.000000</td>\n",
       "      <td>0.906475</td>\n",
       "      <td>0.038823</td>\n",
       "    </tr>\n",
       "    <tr>\n",
       "      <th>380</th>\n",
       "      <td>10000</td>\n",
       "      <td>0.0001</td>\n",
       "      <td>1.000000</td>\n",
       "      <td>0.906475</td>\n",
       "      <td>0.038823</td>\n",
       "    </tr>\n",
       "    <tr>\n",
       "      <th>360</th>\n",
       "      <td>3792.69</td>\n",
       "      <td>0.0001</td>\n",
       "      <td>1.000000</td>\n",
       "      <td>0.906475</td>\n",
       "      <td>0.038823</td>\n",
       "    </tr>\n",
       "  </tbody>\n",
       "</table>\n",
       "</div>"
      ],
      "text/plain": [
       "            C        gamma   mean_tr   mean_te    std_te\n",
       "220   4.28133       0.0001  0.946313  0.928058  0.041445\n",
       "201   1.62378  0.000263665  0.945287  0.928058  0.041445\n",
       "202   1.62378  0.000695193  0.979544  0.920863  0.048917\n",
       "221   4.28133  0.000263665  0.981086  0.913669  0.050346\n",
       "240   11.2884       0.0001  0.981596  0.913669  0.050346\n",
       "182  0.615848  0.000695193  0.944283  0.913669  0.050346\n",
       "301   206.914  0.000263665  1.000000  0.906475  0.038823\n",
       "381     10000  0.000263665  1.000000  0.906475  0.038823\n",
       "380     10000       0.0001  1.000000  0.906475  0.038823\n",
       "360   3792.69       0.0001  1.000000  0.906475  0.038823"
      ]
     },
     "execution_count": 18,
     "metadata": {},
     "output_type": "execute_result"
    }
   ],
   "source": [
    "# Collect results in a DataFrame\n",
    "SVM_results = pd.DataFrame({\n",
    "    'C': grid_SVM_cv.cv_results_['param_SVM__C'],\n",
    "    'gamma': grid_SVM_cv.cv_results_['param_SVM__gamma'],\n",
    "    'mean_tr': grid_SVM_cv.cv_results_['mean_train_score'],\n",
    "    'mean_te': grid_SVM_cv.cv_results_['mean_test_score'],\n",
    "    'std_te': grid_SVM_cv.cv_results_['std_test_score']\n",
    "})\n",
    "\n",
    "# Ten best combinations according to the mean test score\n",
    "SVM_results.sort_values(by='mean_te', ascending=False).head(10)"
   ]
  },
  {
   "cell_type": "code",
   "execution_count": 19,
   "metadata": {},
   "outputs": [
    {
     "name": "stdout",
     "output_type": "stream",
     "text": [
      "Test accuracy: 96.00%\n"
     ]
    }
   ],
   "source": [
    "# Report test score\n",
    "acc_SVM = 100*grid_SVM_cv.score(X_te, y_te)\n",
    "print('Test accuracy: {:.2f}%'.format(acc_SVM))"
   ]
  },
  {
   "cell_type": "markdown",
   "metadata": {},
   "source": [
    "SVM with RBF kernel does not perform better than linear SVM "
   ]
  },
  {
   "cell_type": "markdown",
   "metadata": {},
   "source": [
    "## Store results"
   ]
  },
  {
   "cell_type": "code",
   "execution_count": 20,
   "metadata": {},
   "outputs": [],
   "source": [
    "df_acc = pd.DataFrame(\n",
    "    {'model': ['random forest', 'svm linear', 'svm rbf'], 'test_accuracy': [acc_RF, acc_lSVM, acc_SVM]})\n",
    "df_acc.to_csv('acc_non-linear_models.csv', index=False)"
   ]
  },
  {
   "cell_type": "code",
   "execution_count": null,
   "metadata": {},
   "outputs": [],
   "source": []
  }
 ],
 "metadata": {
  "kernelspec": {
   "display_name": "Python 3",
   "language": "python",
   "name": "python3"
  },
  "language_info": {
   "codemirror_mode": {
    "name": "ipython",
    "version": 3
   },
   "file_extension": ".py",
   "mimetype": "text/x-python",
   "name": "python",
   "nbconvert_exporter": "python",
   "pygments_lexer": "ipython3",
   "version": "3.6.10"
  }
 },
 "nbformat": 4,
 "nbformat_minor": 4
}
